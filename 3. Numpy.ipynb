{
 "cells": [
  {
   "cell_type": "markdown",
   "metadata": {
    "collapsed": false
   },
   "source": [
    "# (More on) Numpy\n",
    "\n",
    "**Camilo A. Garcia Trillos**\n",
    "\n",
    "---"
   ]
  },
  {
   "cell_type": "markdown",
   "metadata": {
    "collapsed": false
   },
   "source": [
    "## In this notebook \n",
    "\n",
    "We learn more about the Numpy package: we look at arrays and matrices, and some of the associated modules.\n"
   ]
  },
  {
   "cell_type": "markdown",
   "metadata": {
    "collapsed": false
   },
   "source": [
    "We start by importing the modules we will use in this notebook: only numpy."
   ]
  },
  {
   "cell_type": "code",
   "execution_count": 0,
   "metadata": {
    "collapsed": false
   },
   "outputs": [
   ],
   "source": [
    "import numpy as np"
   ]
  },
  {
   "cell_type": "markdown",
   "metadata": {
    "collapsed": false
   },
   "source": [
    "<a id=\"arrays\"></a>\n",
    "\n",
    "## More on arrays"
   ]
  },
  {
   "cell_type": "markdown",
   "metadata": {
    "collapsed": false
   },
   "source": [
    "Let us look deeper at the numpy library. The numpy library contains useful tools to work with vectors and matrices, solve linear operations and generate random entries.\n",
    "\n",
    "We briefly introduced last time the command 'array()' which transform iterables (like lists) into arrays. Here is an example"
   ]
  },
  {
   "cell_type": "code",
   "execution_count": 0,
   "metadata": {
    "collapsed": false
   },
   "outputs": [
   ],
   "source": [
    "a = np.array([1,3,6,1])"
   ]
  },
  {
   "cell_type": "code",
   "execution_count": 0,
   "metadata": {
    "collapsed": false,
    "scrolled": true
   },
   "outputs": [
   ],
   "source": [
    "a"
   ]
  },
  {
   "cell_type": "markdown",
   "metadata": {
    "collapsed": false
   },
   "source": [
    "Two important methods for arrays are *size* and *shape*. The former gives us the total number of elements in an array. The latter tells us how these elements are organised, which is particularly useful to define matrices or higher order tensors."
   ]
  },
  {
   "cell_type": "code",
   "execution_count": 0,
   "metadata": {
    "collapsed": false
   },
   "outputs": [
   ],
   "source": [
    "a.size # The number of total elements in the array"
   ]
  },
  {
   "cell_type": "code",
   "execution_count": 0,
   "metadata": {
    "collapsed": false
   },
   "outputs": [
   ],
   "source": [
    "a.shape"
   ]
  },
  {
   "cell_type": "markdown",
   "metadata": {
    "collapsed": false
   },
   "source": [
    "This means that at this time, all elements are organised in a unique row with 4 elements. We can render this vector into a 'column vector' or into a 2x2 matrix *with the same entries* simply assigning the shape we want or by using the *reshape* method."
   ]
  },
  {
   "cell_type": "code",
   "execution_count": 0,
   "metadata": {
    "collapsed": false
   },
   "outputs": [
   ],
   "source": [
    "print('original')\n",
    "print(a)\n",
    "a.shape=(1,4) # This operation is 'inplace', i.e. the original vector is changed\n",
    "print('column vector (inplace)')\n",
    "print(a)\n",
    "b = a.reshape(2,2)  # This operation is NOT 'inplace', i.e. the original vector is stable and a new one is returned\n",
    "print('matrix')\n",
    "print(b)\n",
    "\n"
   ]
  },
  {
   "cell_type": "markdown",
   "metadata": {
    "collapsed": false
   },
   "source": [
    "When assigning the *shape* property, the array itself changes (this is called 'inplace'):"
   ]
  },
  {
   "cell_type": "code",
   "execution_count": 0,
   "metadata": {
    "collapsed": false
   },
   "outputs": [
   ],
   "source": [
    "a"
   ]
  },
  {
   "cell_type": "code",
   "execution_count": 0,
   "metadata": {
    "collapsed": false
   },
   "outputs": [
   ],
   "source": [
    "print(a[0,1]) # This is OK\n",
    "print(a[0]) # this is OK\n",
    "a[1] #This is an error"
   ]
  },
  {
   "cell_type": "markdown",
   "metadata": {
    "collapsed": false
   },
   "source": [
    "The above error occurs because there is only one entry on the first dimension of the array.\n",
    "\n",
    "Arrays, unlike lists, cannot in general combine different types of entries. The vector we created above was an integer vector (note the lack of dots at the end of all prints!). Hence, if we try to assign a float, we will get a roundup version of it"
   ]
  },
  {
   "cell_type": "code",
   "execution_count": 0,
   "metadata": {
    "collapsed": false
   },
   "outputs": [
   ],
   "source": [
    "a[0,1] = 9.2"
   ]
  },
  {
   "cell_type": "code",
   "execution_count": 0,
   "metadata": {
    "collapsed": false
   },
   "outputs": [
   ],
   "source": [
    "a"
   ]
  },
  {
   "cell_type": "markdown",
   "metadata": {
    "collapsed": false
   },
   "source": [
    "As mentioned above, 9.2 becomes 9. Let us try now by creating a vector of floats from the start:"
   ]
  },
  {
   "cell_type": "code",
   "execution_count": 0,
   "metadata": {
    "collapsed": false
   },
   "outputs": [
   ],
   "source": [
    "b = np.array([1.0,3,6])"
   ]
  },
  {
   "cell_type": "code",
   "execution_count": 0,
   "metadata": {
    "collapsed": false
   },
   "outputs": [
   ],
   "source": [
    "b"
   ]
  },
  {
   "cell_type": "code",
   "execution_count": 0,
   "metadata": {
    "collapsed": false
   },
   "outputs": [
   ],
   "source": [
    "b[1] = 9.2"
   ]
  },
  {
   "cell_type": "code",
   "execution_count": 0,
   "metadata": {
    "collapsed": false
   },
   "outputs": [
   ],
   "source": [
    "b"
   ]
  },
  {
   "cell_type": "markdown",
   "metadata": {
    "collapsed": false
   },
   "source": [
    "Note the difference!  The array b was initialized to have floats, thanks to writing 1.0 instead of 1.  Thus, in contrast to a, it contains 9.2 (instead of 9, as the array a does)\n",
    "\n",
    "As *lists*, arrays are assigned by reference. What follows should not surprise you if you followed the first notebook.\n"
   ]
  },
  {
   "cell_type": "code",
   "execution_count": 0,
   "metadata": {
    "collapsed": false
   },
   "outputs": [
   ],
   "source": [
    "c = b\n",
    "c\n",
    "c[0] = 7.1\n",
    "print('c:',c)\n",
    "print('b:', b)"
   ]
  },
  {
   "cell_type": "markdown",
   "metadata": {
    "collapsed": false
   },
   "source": [
    "If an independent copy of a given array is needed, we can use the method *copy*"
   ]
  },
  {
   "cell_type": "code",
   "execution_count": 0,
   "metadata": {
    "collapsed": false
   },
   "outputs": [
   ],
   "source": [
    "c=b.copy()\n",
    "c\n",
    "c[1]=1\n",
    "print(c)\n",
    "print(b)"
   ]
  },
  {
   "cell_type": "markdown",
   "metadata": {
    "collapsed": false
   },
   "source": [
    "In the previous notebook, we looked at the method *arange* to generate a list of numbers following a pattern. Here are some ways to use it:"
   ]
  },
  {
   "cell_type": "code",
   "execution_count": 0,
   "metadata": {
    "collapsed": false
   },
   "outputs": [
   ],
   "source": [
    "d = np.arange(3, 42, 7)\n",
    "d"
   ]
  },
  {
   "cell_type": "code",
   "execution_count": 0,
   "metadata": {
    "collapsed": false
   },
   "outputs": [
   ],
   "source": [
    "d = np.arange(38, 2, -7)\n",
    "d"
   ]
  },
  {
   "cell_type": "code",
   "execution_count": 0,
   "metadata": {
    "collapsed": false
   },
   "outputs": [
   ],
   "source": [
    "d = np.arange(10)\n",
    "d"
   ]
  },
  {
   "cell_type": "markdown",
   "metadata": {
    "collapsed": false
   },
   "source": [
    "<a id=\"broadcasting\"></a>\n",
    "## Broadcasting\n",
    "\n",
    "We mentioned in the previous notebook that there was an exception to the rule of operating with the exact same dimensions. This exception is called broadcasting. Let us first present some examples: try to figure out what is happening"
   ]
  },
  {
   "cell_type": "markdown",
   "metadata": {
    "collapsed": false
   },
   "source": [
    "**Example 1**"
   ]
  },
  {
   "cell_type": "code",
   "execution_count": 0,
   "metadata": {
    "collapsed": false
   },
   "outputs": [
   ],
   "source": [
    "d.shape = (5,2)\n",
    "d"
   ]
  },
  {
   "cell_type": "code",
   "execution_count": 0,
   "metadata": {
    "collapsed": false
   },
   "outputs": [
   ],
   "source": [
    "e = np.array([1,3])"
   ]
  },
  {
   "cell_type": "code",
   "execution_count": 0,
   "metadata": {
    "collapsed": false
   },
   "outputs": [
   ],
   "source": [
    "print(d * e)\n",
    "print(d.shape, e.shape)"
   ]
  },
  {
   "cell_type": "markdown",
   "metadata": {
    "collapsed": false
   },
   "source": [
    "**Example 2**"
   ]
  },
  {
   "cell_type": "code",
   "execution_count": 0,
   "metadata": {
    "collapsed": false
   },
   "outputs": [
   ],
   "source": [
    "e.shape = (1,2)\n",
    "print(d * e)\n",
    "print(d.shape, e.shape)"
   ]
  },
  {
   "cell_type": "markdown",
   "metadata": {
    "collapsed": false
   },
   "source": [
    "**Example 3**"
   ]
  },
  {
   "cell_type": "code",
   "execution_count": 0,
   "metadata": {
    "collapsed": false
   },
   "outputs": [
   ],
   "source": [
    "f = np.array([1,1,1,2,2]).reshape(-1,1)\n",
    "print('f: ',f, 'and the shape of f:', f.shape)"
   ]
  },
  {
   "cell_type": "code",
   "execution_count": 0,
   "metadata": {
    "collapsed": false
   },
   "outputs": [
   ],
   "source": [
    "print(f*d)\n",
    "print(f.shape, d.shape)"
   ]
  },
  {
   "cell_type": "markdown",
   "metadata": {
    "collapsed": false
   },
   "source": [
    "**Example 4**\n",
    "\n",
    "However, recall that the following gives an error:"
   ]
  },
  {
   "cell_type": "code",
   "execution_count": 0,
   "metadata": {
    "collapsed": false
   },
   "outputs": [
   ],
   "source": [
    "g = np.array([1,2,3])\n",
    "print(d.shape,g.shape)\n",
    "print(g*d) # This gives an error"
   ]
  },
  {
   "cell_type": "markdown",
   "metadata": {
    "collapsed": false
   },
   "source": [
    "If you have not figure it out, the explanation is as follows: suppose we are operating the arrays a and b. Suppose that the shape of a is $(m_1,m_2)$, while the shape of b is $(n_1,n_2)$:\n",
    "- If $n_i \\neq m_i$  **and** both are different from one or empty for some $i=1, 2$, then the operation cannot be done.\n",
    "- If $n_i \\neq m_i$  **and** one of the two is equal to one or empty for some $i=1, 2$, then the operation is done by completing the missing dimensions as if repeating copies of the array as many times as to match the other arrays's dimension in that position. \n",
    "\n",
    "Look again to the example to make sure you understand this process. In particular, see how the empty spaces can be accomodated to the above template: note that empty spaces can only be completed to the 'left'\n",
    "\n",
    "**Note:** arrays can be *tensors*, i.e. have more than 2 dimensions. Broadcasting is generalised as you would expect.\n"
   ]
  },
  {
   "cell_type": "markdown",
   "metadata": {
    "collapsed": false
   },
   "source": [
    "**Example 5**\n",
    "\n",
    "Observe the following example"
   ]
  },
  {
   "cell_type": "code",
   "execution_count": 0,
   "metadata": {
    "collapsed": false
   },
   "outputs": [
   ],
   "source": [
    "d[0,0] = 1"
   ]
  },
  {
   "cell_type": "code",
   "execution_count": 0,
   "metadata": {
    "collapsed": false
   },
   "outputs": [
   ],
   "source": [
    "d"
   ]
  },
  {
   "cell_type": "code",
   "execution_count": 0,
   "metadata": {
    "collapsed": false
   },
   "outputs": [
   ],
   "source": [
    "1/d"
   ]
  },
  {
   "cell_type": "markdown",
   "metadata": {
    "collapsed": false
   },
   "source": [
    "The above works, because 1 is taken as an array of empty size, so it can be broadcasted by repeating itself to operate on each entry.\n",
    "\n",
    "Note, though, that the following is an error:"
   ]
  },
  {
   "cell_type": "code",
   "execution_count": 0,
   "metadata": {
    "collapsed": false
   },
   "outputs": [
   ],
   "source": [
    "d ** (-1) # This raises an error"
   ]
  },
  {
   "cell_type": "markdown",
   "metadata": {
    "collapsed": false
   },
   "source": [
    "What's wrong?  We initialized d with integers, and there is no well defined change of type for this operation."
   ]
  },
  {
   "cell_type": "code",
   "execution_count": 0,
   "metadata": {
    "collapsed": false
   },
   "outputs": [
   ],
   "source": [
    "d.dtype # Observe the type of this array"
   ]
  },
  {
   "cell_type": "code",
   "execution_count": 0,
   "metadata": {
    "collapsed": false
   },
   "outputs": [
   ],
   "source": [
    "d = d.astype(float) # Set it to float"
   ]
  },
  {
   "cell_type": "code",
   "execution_count": 0,
   "metadata": {
    "collapsed": false
   },
   "outputs": [
   ],
   "source": [
    "d.dtype # Observe again the type"
   ]
  },
  {
   "cell_type": "code",
   "execution_count": 0,
   "metadata": {
    "collapsed": false
   },
   "outputs": [
   ],
   "source": [
    "d ** (-1) # The correct answer appears."
   ]
  },
  {
   "cell_type": "code",
   "execution_count": 0,
   "metadata": {
    "collapsed": false
   },
   "outputs": [
   ],
   "source": [
    "(d ** (-1)) == (1/d)"
   ]
  },
  {
   "cell_type": "code",
   "execution_count": 0,
   "metadata": {
    "collapsed": false
   },
   "outputs": [
   ],
   "source": [
    "a=np.arange(10).reshape((5,2))\n",
    "b=np.arange(2)\n",
    "a*b"
   ]
  },
  {
   "cell_type": "markdown",
   "metadata": {
    "collapsed": false
   },
   "source": [
    "<a id=\"canonical\"></a>\n",
    "## Some canonical matrices/vectors\n"
   ]
  },
  {
   "cell_type": "markdown",
   "metadata": {
    "collapsed": false
   },
   "source": [
    "Let us introduce some canonical matrices and vectors."
   ]
  },
  {
   "cell_type": "code",
   "execution_count": 0,
   "metadata": {
    "collapsed": false
   },
   "outputs": [
   ],
   "source": [
    "# Zeros and ones matrix/vector\n",
    "\n",
    "print (np.zeros(10))\n",
    "a = np.ones((2,5))\n",
    "print(a)"
   ]
  },
  {
   "cell_type": "markdown",
   "metadata": {
    "collapsed": false
   },
   "source": [
    "By default these are float. If an integer is desired, this  has to be stated explicitly."
   ]
  },
  {
   "cell_type": "code",
   "execution_count": 0,
   "metadata": {
    "collapsed": false
   },
   "outputs": [
   ],
   "source": [
    "b=np.zeros(10, dtype=int)\n",
    "print (b)"
   ]
  },
  {
   "cell_type": "markdown",
   "metadata": {
    "collapsed": false
   },
   "source": [
    "Some other useful functions are zeros_like and ones_like: they create zeros and ones of the lentgh and type of the parameter"
   ]
  },
  {
   "cell_type": "code",
   "execution_count": 0,
   "metadata": {
    "collapsed": false
   },
   "outputs": [
   ],
   "source": [
    "print(np.zeros_like(a))\n",
    "print(np.ones_like(b))"
   ]
  },
  {
   "cell_type": "markdown",
   "metadata": {
    "collapsed": false
   },
   "source": [
    "We have also an identity matrix and the function diag. Let us look at what they do:"
   ]
  },
  {
   "cell_type": "code",
   "execution_count": 0,
   "metadata": {
    "collapsed": false
   },
   "outputs": [
   ],
   "source": [
    "c=np.eye(5)"
   ]
  },
  {
   "cell_type": "code",
   "execution_count": 0,
   "metadata": {
    "collapsed": false
   },
   "outputs": [
   ],
   "source": [
    "c[2][2]=10\n",
    "print(c)\n",
    "print('=====')\n",
    "print(np.diag(c))"
   ]
  },
  {
   "cell_type": "markdown",
   "metadata": {
    "collapsed": false
   },
   "source": [
    "Diag can also be used to build a diagonal matrix, as shown below."
   ]
  },
  {
   "cell_type": "code",
   "execution_count": 0,
   "metadata": {
    "collapsed": false
   },
   "outputs": [
   ],
   "source": [
    "np.diag(np.arange(8))"
   ]
  },
  {
   "cell_type": "markdown",
   "metadata": {
    "collapsed": false
   },
   "source": [
    "<a id=\"inverting\"></a>\n",
    "## Inverting a matrix"
   ]
  },
  {
   "cell_type": "markdown",
   "metadata": {
    "collapsed": false
   },
   "source": [
    "Recall how to generate a random Gaussian matrix: here we generate a matrix of size 3x3, where each entry is i.i.d. with distribution $\\mathcal N(0,1)$"
   ]
  },
  {
   "cell_type": "code",
   "execution_count": 0,
   "metadata": {
    "collapsed": false
   },
   "outputs": [
   ],
   "source": [
    "rng = np.random.default_rng()\n",
    "g = rng.normal(0,1,(3,3))\n",
    "g"
   ]
  },
  {
   "cell_type": "markdown",
   "metadata": {
    "collapsed": false
   },
   "source": [
    "We can check that the matrix is invertible, by looking at the rank of the matrix"
   ]
  },
  {
   "cell_type": "code",
   "execution_count": 0,
   "metadata": {
    "collapsed": false
   },
   "outputs": [
   ],
   "source": [
    "np.linalg.matrix_rank(g)"
   ]
  },
  {
   "cell_type": "markdown",
   "metadata": {
    "collapsed": false
   },
   "source": [
    "If the rank is 3 then we can invert the matrix g.  We already showed that *g ** (-1)* does not give the matrix inverse but computes the reciprocals of each component. "
   ]
  },
  {
   "cell_type": "code",
   "execution_count": 0,
   "metadata": {
    "collapsed": false
   },
   "outputs": [
   ],
   "source": [
    "g ** (-1)"
   ]
  },
  {
   "cell_type": "markdown",
   "metadata": {
    "collapsed": false
   },
   "source": [
    "Instead the package numpy has a specific command to obtain the matrix inverse:"
   ]
  },
  {
   "cell_type": "code",
   "execution_count": 0,
   "metadata": {
    "collapsed": false
   },
   "outputs": [
   ],
   "source": [
    "g_inv = np.linalg.inv(g)"
   ]
  },
  {
   "cell_type": "code",
   "execution_count": 0,
   "metadata": {
    "collapsed": false
   },
   "outputs": [
   ],
   "source": [
    "g_inv"
   ]
  },
  {
   "cell_type": "markdown",
   "metadata": {
    "collapsed": false
   },
   "source": [
    "Let's check:"
   ]
  },
  {
   "cell_type": "code",
   "execution_count": 0,
   "metadata": {
    "collapsed": false
   },
   "outputs": [
   ],
   "source": [
    "g@g_inv"
   ]
  },
  {
   "cell_type": "markdown",
   "metadata": {
    "collapsed": false
   },
   "source": [
    "Apart from rounding errors this is basically the identity matrix."
   ]
  },
  {
   "cell_type": "markdown",
   "metadata": {
    "collapsed": false
   },
   "source": [
    "We need to be careful though:\n",
    "- Inverting matrices is expensive\n",
    "- Inversion is done numerically, and this algorithm is not *stable* when applied to certain matrices. \n",
    "\n",
    "Let us illustrate this point with an example. We are going to use another canonical matrix, the [Hilbert matrix](https://en.wikipedia.org/wiki/Hilbert_matrix). This matrix is famous for being ill conditioned (that is, there is a huge gap between its eigenvalues), which makes it a bad example for inversion algorithms."
   ]
  },
  {
   "cell_type": "code",
   "execution_count": 0,
   "metadata": {
    "collapsed": false
   },
   "outputs": [
   ],
   "source": [
    "from scipy.linalg import hilbert\n",
    "\n",
    "dim = 13\n",
    "ill_conditioned = hilbert(dim)\n",
    "#ill_conditioned"
   ]
  },
  {
   "cell_type": "code",
   "execution_count": 0,
   "metadata": {
    "collapsed": false
   },
   "outputs": [
   ],
   "source": [
    "np.linalg.cond(ill_conditioned)"
   ]
  },
  {
   "cell_type": "code",
   "execution_count": 0,
   "metadata": {
    "collapsed": false
   },
   "outputs": [
   ],
   "source": [
    "ill_inverse = np.linalg.inv(ill_conditioned)\n",
    "np.diag(ill_conditioned @ ill_inverse )   # If inverse is perfect, all entries here would be one (can you see why?)"
   ]
  },
  {
   "cell_type": "code",
   "execution_count": 0,
   "metadata": {
    "collapsed": false
   },
   "outputs": [
   ],
   "source": [
    "b = np.ones(dim)\n",
    "ill_conditioned @ (ill_inverse @ b) # If inverse is perfect, all entries here would be one (can you see why?)"
   ]
  },
  {
   "cell_type": "markdown",
   "metadata": {
    "collapsed": false
   },
   "source": [
    "Note that the above tests show that we are not really getting a good approximation of the inverse.\n",
    "\n",
    "There are several ways to account for this problem. One can add a small amount to the diagonal"
   ]
  },
  {
   "cell_type": "code",
   "execution_count": 0,
   "metadata": {
    "collapsed": false
   },
   "outputs": [
   ],
   "source": [
    "ill_min = np.min(ill_conditioned)\n",
    "ill_max = np.max(ill_conditioned)\n",
    "print(ill_min,ill_max)"
   ]
  },
  {
   "cell_type": "code",
   "execution_count": 0,
   "metadata": {
    "collapsed": false
   },
   "outputs": [
   ],
   "source": [
    "better_cond = ill_conditioned + np.diag (ill_min*0.05*np.ones(dim) )\n",
    "better_inv = np.linalg.inv(better_cond)"
   ]
  },
  {
   "cell_type": "code",
   "execution_count": 0,
   "metadata": {
    "collapsed": false
   },
   "outputs": [
   ],
   "source": [
    "ill_conditioned @ (better_inv @ b) # If inverse is perfect, all entries here would be one (can you see why?)"
   ]
  },
  {
   "cell_type": "markdown",
   "metadata": {
    "collapsed": false
   },
   "source": [
    "Note that this solution is much closer to the one vector, and so the inverse is close to what we would like. \n",
    "\n",
    "But this solution has a *bias*, that is, we have a systematic error. A more mathematically sound alternative (even if more computationally expensive) is to add an error that is neglected in probability: we add  a small random amount to the matrix, and then average out a couple of solutions"
   ]
  },
  {
   "cell_type": "code",
   "execution_count": 0,
   "metadata": {
    "collapsed": false
   },
   "outputs": [
   ],
   "source": [
    "noise_factor = np.diag(rng.random(dim) *0.02)"
   ]
  },
  {
   "cell_type": "code",
   "execution_count": 0,
   "metadata": {
    "collapsed": false
   },
   "outputs": [
   ],
   "source": [
    "np.min(noise_factor), np.mean(noise_factor), np.max(noise_factor)"
   ]
  },
  {
   "cell_type": "code",
   "execution_count": 0,
   "metadata": {
    "collapsed": false
   },
   "outputs": [
   ],
   "source": [
    "better_cond2 = ill_conditioned + noise_factor\n",
    "better_inv2 = np.linalg.inv(better_cond2)"
   ]
  },
  {
   "cell_type": "code",
   "execution_count": 0,
   "metadata": {
    "collapsed": false
   },
   "outputs": [
   ],
   "source": [
    "ill_conditioned @ (better_inv2 @ b)"
   ]
  },
  {
   "cell_type": "code",
   "execution_count": 0,
   "metadata": {
    "collapsed": false
   },
   "outputs": [
   ],
   "source": [
    "np.linalg.norm(ill_conditioned@better_inv2)"
   ]
  },
  {
   "cell_type": "markdown",
   "metadata": {
    "collapsed": false
   },
   "source": [
    "This works specially well when the matrix is a calculated covariance matrix: in this case one can randomly perturb the data before calculating the covariance."
   ]
  },
  {
   "cell_type": "markdown",
   "metadata": {
    "collapsed": false
   },
   "source": [
    "<a id=\"lin_sys\"></a>\n",
    "\n",
    "## Solving linear systems\n",
    "\n",
    "Sometimes we are not interested in finding the inverse matrix but rather in solving a liner system like\n",
    "\n",
    "$$A {\\bf x} ={\\bf b}$$\n",
    "\n",
    "Usually, it is more efficient to try to solve the system directly rather than using the inverse to write $b=A^{-1} x$. \n",
    "\n",
    "There is a very interesting theory on how to solve linear equations (this is at the core of numerical analysis) with several algorithms adapted to different cases. We will simply use the predefined functions in numpy, which behave reasonably well for most common cases.\n",
    "\n"
   ]
  },
  {
   "cell_type": "code",
   "execution_count": 0,
   "metadata": {
    "collapsed": false
   },
   "outputs": [
   ],
   "source": [
    "x = np.linalg.solve(ill_conditioned, b)\n",
    "x"
   ]
  },
  {
   "cell_type": "markdown",
   "metadata": {
    "collapsed": false
   },
   "source": [
    "We test it:"
   ]
  },
  {
   "cell_type": "code",
   "execution_count": 0,
   "metadata": {
    "collapsed": false
   },
   "outputs": [
   ],
   "source": [
    "ill_conditioned @ x"
   ]
  },
  {
   "cell_type": "markdown",
   "metadata": {
    "collapsed": false
   },
   "source": [
    "Very close to $b$ (a vector of ones). Compare with the result we obain using the inverse:"
   ]
  },
  {
   "cell_type": "code",
   "execution_count": 0,
   "metadata": {
    "collapsed": false
   },
   "outputs": [
   ],
   "source": [
    "x2 = ill_inverse@b\n",
    "ill_conditioned@x2"
   ]
  },
  {
   "cell_type": "markdown",
   "metadata": {
    "collapsed": false
   },
   "source": [
    "And compare with what we obtain using the modified inverse (with the small perturbation):"
   ]
  },
  {
   "cell_type": "markdown",
   "metadata": {
    "collapsed": false
   },
   "source": [
    "x3 = better_inv@b\n",
    "ill_conditioned@x3"
   ]
  },
  {
   "cell_type": "markdown",
   "metadata": {
    "collapsed": false
   },
   "source": [
    "Better... but solving the linear system is superior. \n",
    "\n",
    "**Remark:** Finding an inverse might be advantageous if several linear systems with the same matrices have to be solved one after the other: essentially if we need to solve more than $d$ linear systems (this being the dimension), it is better to solve the matrix. "
   ]
  },
  {
   "cell_type": "markdown",
   "metadata": {
    "collapsed": false
   },
   "source": [
    "**List of some built-in mathematical functions**\n",
    "\n",
    "Numpy has a lot of functions available to transform and work with the arrays: from element-wise mathematical functions (exponentials, trigonometric, ...), to transformations (like sum, average, cumulated product, absolute value, etc. ). Please, get familiar with them. You can find a list of mathematical functions in [this link](https://numpy.org/doc/stable/reference/routines.math.html)"
   ]
  },
  {
   "cell_type": "markdown",
   "metadata": {
    "collapsed": false
   },
   "source": [
    "<a id=\"exercises\"></a>\n",
    "\n",
    "## Exercises\n",
    "\n",
    "\n",
    "1. Create a function that given a random sample, returns the empirical mean and variance (you are allowed to use numpy built-in functions).\n"
   ]
  },
  {
   "cell_type": "code",
   "execution_count": 9,
   "metadata": {
    "collapsed": false
   },
   "outputs": [
   ],
   "source": [
    "import numpy as np\n",
    "def mystats(sample):\n",
    "    #Be sure to delete this command when writing your function. Is here to remind you something has to be done.\n",
    "    mean=np.mean(sample)\n",
    "    var=np.var(sample)\n",
    "    return print('the mean is',mean, 'variance is', var)"
   ]
  },
  {
   "cell_type": "code",
   "execution_count": 10,
   "metadata": {
    "collapsed": false
   },
   "outputs": [
    {
     "name": "stdout",
     "output_type": "stream",
     "text": [
      "the mean is 0.5012982542179296 variance is 0.08358266568611612\n"
     ]
    }
   ],
   "source": [
    "\n",
    "#Test your function here....\n",
    "mystats(np.random.rand(40000))"
   ]
  },
  {
   "cell_type": "markdown",
   "metadata": {
    "collapsed": false
   },
   "source": [
    "2. Create a function  'special_gaussian(n,d)'  that generates a sample of $n$ independent Gaussians in dimension $d$, with zero expectation and where the variance of the $i$th component is $1/i$ for $i=1, \\ldots, d$. Return the sample as an array (matrix) of shape (n,d). Then, use the function 'mystats' that you defined on 1. to test your solution."
   ]
  },
  {
   "cell_type": "code",
   "execution_count": 0,
   "metadata": {
    "collapsed": false
   },
   "outputs": [
   ],
   "source": [
    "def special_gaussian(n,d):\n",
    "    raise NotImplementedError()  #Be sure to delete this command when writing your function. Is here to remind you something has to be done."
   ]
  },
  {
   "cell_type": "code",
   "execution_count": 0,
   "metadata": {
    "collapsed": false
   },
   "outputs": [
   ],
   "source": [
   ]
  },
  {
   "cell_type": "markdown",
   "metadata": {
    "collapsed": false
   },
   "source": [
    "**In the following two questions, we consider a one-period market model in a finite probability space (with $k$ scenarios).**\n"
   ]
  },
  {
   "cell_type": "markdown",
   "metadata": {
    "collapsed": false
   },
   "source": [
    "\n",
    "3. Create a function 'complete_market(S0,S1)' that receives a vector S0 (in $R^n$) with the initial prices of the assets in a market, and a matrix S1 (in $R^{n\\times k}$ as in lecture notes) that gives the prices of each asset in the market under each scenario, and returns a boolean that states if the market is complete or not."
   ]
  },
  {
   "cell_type": "code",
   "execution_count": 0,
   "metadata": {
    "collapsed": false
   },
   "outputs": [
   ],
   "source": [
    "\n",
    "def complete_market(S0,S1):\n",
    "    #Include your solution here\n",
    "    \n",
    "    raise NotImplementedError() #Remember to delete this once your solution is complete\n",
    "    "
   ]
  },
  {
   "cell_type": "code",
   "execution_count": 0,
   "metadata": {
    "collapsed": false
   },
   "outputs": [
   ],
   "source": [
    "# Validate your function here\n",
    "\n",
    "# An example of an incomplete market (Example 1.35 LN)\n",
    "S0 = np.array([1,2])\n",
    "S1 = np.array([[1,2,1],[3,2,1]])\n",
    "assert not complete_market(S0,S1)\n",
    "\n",
    "\n",
    "S0 = np.array([1,1.5,2])\n",
    "S1 = np.array([[1,1,1],[0.5,1,2],[3,1.5,1.5]])\n",
    "\n",
    "assert complete_market(S0,S1)\n",
    "\n"
   ]
  },
  {
   "cell_type": "markdown",
   "metadata": {
    "collapsed": false
   },
   "source": [
    "4. Create a function 'is_SDF(S0,S1,P,M)' that receives a vector S0 (in $R^n$) with the initial prices of the assets in a market, a matrix S1 (in $R^{n\\times k}$) that gives the prices of each asset in the market under each scenario, a vector $P$ with the probability of each scenario, and a candidate to be an SDF $M$ . The function returns a boolean that states if the $M$ is and SDF for the market with the given data or not."
   ]
  },
  {
   "cell_type": "code",
   "execution_count": 0,
   "metadata": {
    "collapsed": false
   },
   "outputs": [
   ],
   "source": [
    "def is_SDF(S0,S1,P,M):\n",
    "    #Include your solution here\n",
    "    \n",
    "    \n",
    "    \n",
    "    raise NotImplementedError() #Remember to delete this once your solution is complete"
   ]
  },
  {
   "cell_type": "code",
   "execution_count": 0,
   "metadata": {
    "collapsed": false
   },
   "outputs": [
   ],
   "source": [
   ]
  }
 ],
 "metadata": {
  "anaconda-cloud": {
  },
  "kernelspec": {
   "argv": [
    "/usr/bin/python3",
    "-m",
    "ipykernel",
    "--HistoryManager.enabled=False",
    "--matplotlib=inline",
    "-c",
    "%config InlineBackend.figure_formats = set(['retina'])\nimport matplotlib; matplotlib.rcParams['figure.figsize'] = (12, 7)",
    "-f",
    "{connection_file}"
   ],
   "display_name": "Python 3 (system-wide)",
   "env": {
   },
   "language": "python",
   "metadata": {
    "cocalc": {
     "description": "Python 3 programming language",
     "priority": 100,
     "url": "https://www.python.org/"
    }
   },
   "name": "python3",
   "resource_dir": "/ext/jupyter/kernels/python3"
  },
  "language_info": {
   "codemirror_mode": {
    "name": "ipython",
    "version": 3
   },
   "file_extension": ".py",
   "mimetype": "text/x-python",
   "name": "python",
   "nbconvert_exporter": "python",
   "pygments_lexer": "ipython3",
   "version": "3.8.10"
  },
  "toc": {
   "base_numbering": 1,
   "nav_menu": {
   },
   "number_sections": true,
   "sideBar": true,
   "skip_h1_title": true,
   "title_cell": "Table of Contents",
   "title_sidebar": "Contents",
   "toc_cell": true,
   "toc_position": {
   },
   "toc_section_display": true,
   "toc_window_display": false
  }
 },
 "nbformat": 4,
 "nbformat_minor": 4
}