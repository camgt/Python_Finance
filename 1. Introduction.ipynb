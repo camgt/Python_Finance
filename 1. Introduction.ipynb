{
 "cells": [
  {
   "cell_type": "markdown",
   "metadata": {
    "collapsed": false,
    "slideshow": {
     "slide_type": "slide"
    }
   },
   "source": [
    "# Introduction \n",
    "**Camilo Garcia Trillos**"
   ]
  },
  {
   "cell_type": "markdown",
   "metadata": {
    "collapsed": false
   },
   "source": [
    "## In this notebook\n",
    "\n",
    "In this notebook we will deal mainly with syntax and semantics in Python\n",
    "- we explore some basic *expressions* in Python\n",
    "- we introduce some *types*\n",
    "- we introduce some of the most important *control flow* statements\n",
    "---"
   ]
  },
  {
   "cell_type": "markdown",
   "metadata": {
    "collapsed": false
   },
   "source": [
    "<a id=\"jupyter\"></a>\n",
    "## Jupyter Notebooks\n",
    "\n",
    "This is a Jupyter notebook. It is an interface allowing us to combine code (in this case Python) and formatted text in a unified way.\n",
    "\n",
    "The basic unit in a notebook is a *cell*. You are right now reading the content of a \"Markdown\" cell, designed to input formatted text. There are also 'Code' cells, designed to input executable code. \n",
    "\n",
    "- You can **add** a new cell by clicking on the + button on the lower toolbar. Alternatively, press A (for inserting a cell above or B for inserting a cell below).\n",
    "- Click on the cell to start **editing** it (or double click if some content is already in). Alternatively, you can move between cells with your arrows (note the blue highlighter on the right), and click **Enter** to edit one cell.\n",
    "- To change the type of cell (from 'code' to 'markdown', use the choice tab on toolbar while on the cell.\n",
    "- To run the code on a cell (or to format the text you input) you can either click on the 'play' button on the lower toolbar, or hit Ctrl+Enter\n",
    "- You can also cut, paste and move cells. Hover your mouse over the buttons on the lower toolbar to know more. \n",
    "\n",
    "To familiarise yourself with the interface:\n",
    "- On the upper toolbar, click on *Help> User Interface tour*, and follow the instructions to get an overview of this interface.\n",
    "- For more information on the Python notebook in general, click on *Help> Notebook help*\n",
    "- To know more about the keyboard shortcuts, go to *Help> Keyboard shortcuts*\n",
    "\n",
    "\n",
    "**Short Exercise:** Add a cell, write '1+1' and execute this program. Then, select the cell again and change its type to Markdown You can finally delete this cell."
   ]
  },
  {
   "cell_type": "markdown",
   "metadata": {
    "collapsed": false,
    "slideshow": {
     "slide_type": "slide"
    }
   },
   "source": [
    "---\n",
    "<a id=\"basic\"></a>\n",
    "\n",
    "## Basic expressions\n",
    "\n",
    "Having briefly reviewed the interface, let us start our review of Python. We will introduce different commands and explain their use: please run the commands as we learned above, and understand their function. \n",
    "\n",
    "We start by saying hi...."
   ]
  },
  {
   "cell_type": "code",
   "execution_count": 2,
   "metadata": {
    "collapsed": false,
    "slideshow": {
     "slide_type": "fragment"
    }
   },
   "outputs": [
    {
     "name": "stdout",
     "output_type": "stream",
     "text": [
      "hello world!!!\n"
     ]
    }
   ],
   "source": [
    "print (\"hello world!!!\")"
   ]
  },
  {
   "cell_type": "markdown",
   "metadata": {
    "collapsed": false,
    "slideshow": {
     "slide_type": "fragment"
    }
   },
   "source": [
    "The above line has a statement that asks Python to execute the method/function *print* receives a 'string' and then shows the string as an output. Strings in Python can be denoted by either double or single quotations. To verify this, let us ask Python to *compare* if a string with single quotations is the same as a string with double quotations.\n",
    "\n",
    "The comparison operator is *==*\n",
    "\n",
    "\n"
   ]
  },
  {
   "cell_type": "code",
   "execution_count": 3,
   "metadata": {
    "collapsed": false
   },
   "outputs": [
    {
     "data": {
      "text/plain": [
       "True"
      ]
     },
     "execution_count": 3,
     "metadata": {},
     "output_type": "execute_result"
    }
   ],
   "source": [
    "\"hello world!!!\"=='hello world!!!'"
   ]
  },
  {
   "cell_type": "markdown",
   "metadata": {
    "collapsed": false
   },
   "source": [
    "The output of this comparison is *True*, which means that the two values are the same. Let me remark that in general Python compares 'values' and not 'references'. This is an important distinction from other programming languages."
   ]
  },
  {
   "cell_type": "markdown",
   "metadata": {
    "collapsed": false
   },
   "source": [
    "The operator *=*, with a single equal, is used to make an assignment:"
   ]
  },
  {
   "cell_type": "code",
   "execution_count": 4,
   "metadata": {
    "collapsed": false
   },
   "outputs": [
    {
     "name": "stdout",
     "output_type": "stream",
     "text": [
      "hello again!!!\n"
     ]
    }
   ],
   "source": [
    "message = 'hello again!!!'  # This is an assignment\n",
    "print(message)"
   ]
  },
  {
   "cell_type": "markdown",
   "metadata": {
    "collapsed": false
   },
   "source": [
    "Above we are creating an object that is initialised to contain a *string*. There is no need to declare the type of the object *message*. It will be then treated as a string, which is why the function *print*  works. \n",
    "\n",
    "Note in passing that we can make comments on a code cell by preceding the comment by *#*\n",
    "\n",
    "Python is an object-oriented programming language. Objects of a given type or class have associated a certain number of methods that act on them. Take for example the following code"
   ]
  },
  {
   "cell_type": "code",
   "execution_count": 5,
   "metadata": {
    "collapsed": false,
    "slideshow": {
     "slide_type": "-"
    }
   },
   "outputs": [
    {
     "name": "stdout",
     "output_type": "stream",
     "text": [
      "HELLO AGAIN!!!\n"
     ]
    }
   ],
   "source": [
    "print(message.upper())"
   ]
  },
  {
   "cell_type": "markdown",
   "metadata": {
    "collapsed": false
   },
   "source": [
    "The method *upper* is available for string objects and turns every character in their uppercase version. Here is another one "
   ]
  },
  {
   "cell_type": "code",
   "execution_count": 6,
   "metadata": {
    "collapsed": false
   },
   "outputs": [
    {
     "data": {
      "text/plain": [
       "'now to lowercase'"
      ]
     },
     "execution_count": 6,
     "metadata": {},
     "output_type": "execute_result"
    }
   ],
   "source": [
    "'NOW TO LOWERCASE'.lower()"
   ]
  },
  {
   "cell_type": "markdown",
   "metadata": {
    "collapsed": false
   },
   "source": [
    "Note that we did not need to use *print* above. By default the result of the last command of a cell that returns a value is displayed. Let us finally remark that we can use the triple quotes to write text in several lines."
   ]
  },
  {
   "cell_type": "code",
   "execution_count": 7,
   "metadata": {
    "collapsed": false
   },
   "outputs": [
    {
     "name": "stdout",
     "output_type": "stream",
     "text": [
      "now\n",
      "with\n",
      "several\n",
      "lines\n"
     ]
    },
    {
     "data": {
      "text/plain": [
       "'now\\nwith\\nseveral\\nlines'"
      ]
     },
     "execution_count": 7,
     "metadata": {},
     "output_type": "execute_result"
    }
   ],
   "source": [
    "print(\"\"\"NOW\n",
    "WITH\n",
    "SEVERAL\n",
    "LINES\"\"\".lower())\n",
    "\"\"\"NOW\n",
    "WITH\n",
    "SEVERAL\n",
    "LINES\"\"\".lower()"
   ]
  },
  {
   "cell_type": "markdown",
   "metadata": {
    "collapsed": false
   },
   "source": [
    "Compare the versions with and without print."
   ]
  },
  {
   "cell_type": "markdown",
   "metadata": {
    "collapsed": false,
    "slideshow": {
     "slide_type": "slide"
    }
   },
   "source": [
    "<a id=\"numeric\"></a>\n",
    "## Main numeric data types\n",
    "\n",
    "Having introduced the string data type, let us look now at the main numerical types: *Integer, complex, float, bool*\n",
    "\n",
    "Let us introduce them while we do some numerical calculations: adding, substracting, division, multiplication, modulo, power"
   ]
  },
  {
   "cell_type": "code",
   "execution_count": null,
   "metadata": {
    "collapsed": false
   },
   "outputs": [],
   "source": []
  },
  {
   "cell_type": "code",
   "execution_count": 8,
   "metadata": {
    "collapsed": false,
    "slideshow": {
     "slide_type": "fragment"
    }
   },
   "outputs": [
    {
     "data": {
      "text/plain": [
       "0.30000000000000004"
      ]
     },
     "execution_count": 8,
     "metadata": {},
     "output_type": "execute_result"
    }
   ],
   "source": [
    "0.1+0.2"
   ]
  },
  {
   "cell_type": "markdown",
   "metadata": {
    "collapsed": false
   },
   "source": [
    "The operation is performed using 'floats', that is numerical representation of real numbers. Digital computers have only a finite number of digits to represent a real, and so there are roundup errors. The above code shows that operations that for us are simple to do 'without roundup' must be done only approximately by a computer.\n",
    "\n",
    "We can also have operations with complex numbers. In Python, the imaginary number $\\sqrt{-1}$ is denoted by *j*"
   ]
  },
  {
   "cell_type": "code",
   "execution_count": 2,
   "metadata": {
    "collapsed": false,
    "slideshow": {
     "slide_type": "fragment"
    }
   },
   "outputs": [
    {
     "name": "stdout",
     "output_type": "stream",
     "text": [
      "(3+2j)\n",
      "<class 'complex'>\n",
      "<class 'int'>\n"
     ]
    }
   ],
   "source": [
    "a=1+1j\n",
    "b=2\n",
    "print(2*a+b-1)\n",
    "print(type(a))\n",
    "print(type(b))"
   ]
  },
  {
   "cell_type": "code",
   "execution_count": 9,
   "metadata": {
    "collapsed": false
   },
   "outputs": [
    {
     "data": {
      "text/plain": [
       "4"
      ]
     },
     "execution_count": 9,
     "metadata": {},
     "output_type": "execute_result"
    }
   ],
   "source": [
    "2**2"
   ]
  },
  {
   "cell_type": "markdown",
   "metadata": {
    "collapsed": false
   },
   "source": [
    "The above operation is executed in the complex numbers (or more appropriately the float version of the complex numbers). The precedence in executing the operations follows the usual convention: first, parenthesis are solved from inner to outer ones; then, the common mathematical operators precedence is: power, then division and multiplication, then sum and subtraction."
   ]
  },
  {
   "cell_type": "markdown",
   "metadata": {
    "collapsed": false
   },
   "source": [
    "Also, note the function 'type': it returns the type of a given object. While we are at it, let us check the name of other types we have encountered before"
   ]
  },
  {
   "cell_type": "code",
   "execution_count": 12,
   "metadata": {
    "collapsed": false
   },
   "outputs": [
    {
     "name": "stdout",
     "output_type": "stream",
     "text": [
      "<class 'str'> <class 'float'> <class 'float'> <class 'bool'>\n"
     ]
    }
   ],
   "source": [
    "print(type('Hello'), type(2.0), type(0.2), type(True))"
   ]
  },
  {
   "cell_type": "markdown",
   "metadata": {
    "collapsed": false
   },
   "source": [
    "Division is a bit special. Observe the result of the following operations:"
   ]
  },
  {
   "cell_type": "code",
   "execution_count": 13,
   "metadata": {
    "collapsed": false,
    "slideshow": {
     "slide_type": "fragment"
    }
   },
   "outputs": [
    {
     "name": "stdout",
     "output_type": "stream",
     "text": [
      "2.857142857142857\n",
      "2\n"
     ]
    }
   ],
   "source": [
    "print(20/7)\n",
    "print(20//7)"
   ]
  },
  {
   "cell_type": "markdown",
   "metadata": {
    "collapsed": false
   },
   "source": [
    "Indeed, the double slash */* signals integer division. Note that we can use it also with float numbers "
   ]
  },
  {
   "cell_type": "code",
   "execution_count": 14,
   "metadata": {
    "collapsed": false
   },
   "outputs": [
    {
     "name": "stdout",
     "output_type": "stream",
     "text": [
      "2.857142857142857\n",
      "2.0\n"
     ]
    }
   ],
   "source": [
    "print(2.0/0.7)\n",
    "print(2.0//0.7)"
   ]
  },
  {
   "cell_type": "markdown",
   "metadata": {
    "collapsed": false
   },
   "source": [
    "The *modulo* operator, that allow us to obtain the residual of a division, is also included:"
   ]
  },
  {
   "cell_type": "code",
   "execution_count": 15,
   "metadata": {
    "collapsed": false
   },
   "outputs": [
    {
     "data": {
      "text/plain": [
       "6"
      ]
     },
     "execution_count": 15,
     "metadata": {},
     "output_type": "execute_result"
    }
   ],
   "source": [
    "20 % 7"
   ]
  },
  {
   "cell_type": "markdown",
   "metadata": {
    "collapsed": false
   },
   "source": [
    "Powers are defined using the operator double star '**'"
   ]
  },
  {
   "cell_type": "code",
   "execution_count": 16,
   "metadata": {
    "collapsed": false,
    "slideshow": {
     "slide_type": "-"
    }
   },
   "outputs": [
    {
     "name": "stdout",
     "output_type": "stream",
     "text": [
      "0.5 1 2 4\n",
      "0.5 1.0 2.0 4.0\n"
     ]
    }
   ],
   "source": [
    "print(2**-1, 2**0, 2**1, 2**2)\n",
    "print(2**-1, 2.**0, 2.**1, 2.**2)\n"
   ]
  },
  {
   "cell_type": "markdown",
   "metadata": {
    "collapsed": false
   },
   "source": [
    "**Short exercise:** Remark the difference between the two instructions above. What can you say?"
   ]
  },
  {
   "cell_type": "markdown",
   "metadata": {
    "collapsed": false,
    "slideshow": {
     "slide_type": "slide"
    }
   },
   "source": [
    "<a id=\"structured\"></a>\n",
    "\n",
    "## Main structured types\n",
    "\n",
    "Python comes pre-loaded with some structured types to keep collections of objects. The main ones are: *List, tuple, dictionary, set*\n",
    "\n",
    "**It is very important to learn about the features of each one of these structured types, as many errors in programming come from misunderstanding them**"
   ]
  },
  {
   "cell_type": "markdown",
   "metadata": {
    "collapsed": false
   },
   "source": [
    "<a id=\"lists\"></a>\n",
    "\n",
    "### Lists\n",
    "\n",
    "\n",
    "*Lists* are created using the squared brackets []. They are a mutable collection of objects, i.e., after created we can modify the state of the object.\n"
   ]
  },
  {
   "cell_type": "code",
   "execution_count": 18,
   "metadata": {
    "collapsed": false,
    "slideshow": {
     "slide_type": "-"
    }
   },
   "outputs": [
    {
     "name": "stdout",
     "output_type": "stream",
     "text": [
      "[1, 2, 3, 4, 5, 6]\n"
     ]
    }
   ],
   "source": [
    "number_list = [1,2,3,4,5,6]\n",
    "print(number_list)"
   ]
  },
  {
   "cell_type": "markdown",
   "metadata": {
    "collapsed": false
   },
   "source": [
    "Any element on a list can be accessed trough the square bracket operator. The indexation on the vector starts from zero"
   ]
  },
  {
   "cell_type": "code",
   "execution_count": 19,
   "metadata": {
    "collapsed": false
   },
   "outputs": [
    {
     "name": "stdout",
     "output_type": "stream",
     "text": [
      "The first element: 1 \n",
      " the third element: 3 \n",
      " the last element: 6\n"
     ]
    }
   ],
   "source": [
    "print(\"The first element:\", number_list[0], \"\\n the third element:\", \n",
    "      number_list[2], \"\\n the last element:\", number_list[5])"
   ]
  },
  {
   "cell_type": "markdown",
   "metadata": {
    "collapsed": false
   },
   "source": [
    "As shown above, we can provide negative numbers to the position. It simply access the position as counted from the end. Try with some other positions until you are sure how it works.\n",
    "\n",
    "It is also possible to get slices of a vector, by using *[m,n]*: this returns all elements in the vector starting from position *m* and ending in position *n-1*"
   ]
  },
  {
   "cell_type": "code",
   "execution_count": 6,
   "metadata": {
    "collapsed": false
   },
   "outputs": [
    {
     "name": "stdout",
     "output_type": "stream",
     "text": [
      "[2, 3, 4]\n",
      "[5]\n"
     ]
    }
   ],
   "source": [
    "# The slicing operator works like a closed-open interval [ , )\n",
    "\n",
    "print(number_list[1:4])\n",
    "print(number_list[4:5])\n"
   ]
  },
  {
   "cell_type": "markdown",
   "metadata": {
    "collapsed": false
   },
   "source": [
    "In the above, if no number is entered, the corresponding extreme is implicitly understood. Take a look at these examples:"
   ]
  },
  {
   "cell_type": "code",
   "execution_count": 7,
   "metadata": {
    "collapsed": false
   },
   "outputs": [
    {
     "name": "stdout",
     "output_type": "stream",
     "text": [
      "[1, 2, 3, 4]\n",
      "[5, 6]\n",
      "[1, 2, 3, 4, 5, 6]\n"
     ]
    }
   ],
   "source": [
    "print(number_list[:4])\n",
    "print(number_list[4:])\n",
    "print(number_list[:])"
   ]
  },
  {
   "cell_type": "markdown",
   "metadata": {
    "collapsed": false
   },
   "source": [
    "Slices can also be used to run over the elements of a list in inverse order, or following a sequence"
   ]
  },
  {
   "cell_type": "code",
   "execution_count": 8,
   "metadata": {
    "collapsed": false
   },
   "outputs": [
    {
     "name": "stdout",
     "output_type": "stream",
     "text": [
      "Odd numbers: [1, 3, 5]\n",
      "Multiples of 3: [3, 6]\n",
      "Even numbers between 2 and 5: [2, 4]\n",
      "Inverse order: [6, 5, 4, 3, 2, 1]\n"
     ]
    }
   ],
   "source": [
    "print('Odd numbers:',number_list[::2])\n",
    "print('Multiples of 3:',number_list[2::3])\n",
    "print('Even numbers between 2 and 5:',number_list[1:5:2])\n",
    "print('Inverse order:',number_list[::-1])"
   ]
  },
  {
   "cell_type": "markdown",
   "metadata": {
    "collapsed": false
   },
   "source": [
    "Lists can also be extended."
   ]
  },
  {
   "cell_type": "code",
   "execution_count": null,
   "metadata": {
    "collapsed": false
   },
   "outputs": [],
   "source": [
    "number_list.extend([7,8,9])\n",
    "print(number_list)"
   ]
  },
  {
   "cell_type": "markdown",
   "metadata": {
    "collapsed": false,
    "slideshow": {
     "slide_type": "slide"
    }
   },
   "source": [
    "List assignments are passed by **reference**. This means that when we assign them to another variable, we only copy an adress to access them in memory. Here is an example"
   ]
  },
  {
   "cell_type": "code",
   "execution_count": null,
   "metadata": {
    "collapsed": false,
    "slideshow": {
     "slide_type": "-"
    }
   },
   "outputs": [],
   "source": [
    "another_list=number_list\n",
    "print(number_list)\n",
    "print(another_list)"
   ]
  },
  {
   "cell_type": "code",
   "execution_count": null,
   "metadata": {
    "collapsed": false,
    "slideshow": {
     "slide_type": "fragment"
    }
   },
   "outputs": [],
   "source": [
    "another_list[0]=-1 # This asigns -1 to the first position"
   ]
  },
  {
   "cell_type": "code",
   "execution_count": null,
   "metadata": {
    "collapsed": false,
    "scrolled": true,
    "slideshow": {
     "slide_type": "fragment"
    }
   },
   "outputs": [],
   "source": [
    "print(number_list)\n",
    "print(another_list)"
   ]
  },
  {
   "cell_type": "markdown",
   "metadata": {
    "collapsed": false
   },
   "source": [
    "Hence, despite the name, *another_list* points to the **same** list. However, lists are compared by **value**, as seen in this example:"
   ]
  },
  {
   "cell_type": "code",
   "execution_count": null,
   "metadata": {
    "collapsed": false
   },
   "outputs": [],
   "source": [
    "list1=[1,2,3]\n",
    "list2=[-1,2,3]\n",
    "print('Checks if both lists are equal (they are not):',list1==list2)\n",
    "list2[0]=1\n",
    "print('Checks if both lists are equal (they are):',list1==list2)"
   ]
  },
  {
   "cell_type": "markdown",
   "metadata": {
    "collapsed": false
   },
   "source": [
    "Lists can be concatenated with the operator *+*"
   ]
  },
  {
   "cell_type": "code",
   "execution_count": null,
   "metadata": {
    "collapsed": false
   },
   "outputs": [],
   "source": [
    "list1+list2"
   ]
  },
  {
   "cell_type": "markdown",
   "metadata": {
    "collapsed": false
   },
   "source": [
    "Note in particular that this does not add up elements in a list. In particular, we cannot concatenate an integer to a list."
   ]
  },
  {
   "cell_type": "code",
   "execution_count": null,
   "metadata": {
    "collapsed": false
   },
   "outputs": [],
   "source": [
    "list1+1 # This command generates an error"
   ]
  },
  {
   "cell_type": "code",
   "execution_count": null,
   "metadata": {
    "collapsed": false
   },
   "outputs": [],
   "source": []
  },
  {
   "cell_type": "markdown",
   "metadata": {
    "collapsed": false
   },
   "source": [
    "But we can do as follows"
   ]
  },
  {
   "cell_type": "code",
   "execution_count": null,
   "metadata": {
    "collapsed": false
   },
   "outputs": [],
   "source": [
    "list1 + [1]"
   ]
  },
  {
   "cell_type": "markdown",
   "metadata": {
    "collapsed": false
   },
   "source": [
    "Also, note that concatenation does not modify the original list but creates a new one: i.e., the original list does not change."
   ]
  },
  {
   "cell_type": "code",
   "execution_count": null,
   "metadata": {
    "collapsed": false
   },
   "outputs": [],
   "source": [
    "print(list1)"
   ]
  },
  {
   "cell_type": "markdown",
   "metadata": {
    "collapsed": false
   },
   "source": [
    "The * operator repeats a list formation"
   ]
  },
  {
   "cell_type": "code",
   "execution_count": null,
   "metadata": {
    "collapsed": false
   },
   "outputs": [],
   "source": [
    "list3 = 3*[1,2,3]\n",
    "print(list3)\n",
    "print(2*list3)"
   ]
  },
  {
   "cell_type": "markdown",
   "metadata": {
    "collapsed": false,
    "slideshow": {
     "slide_type": "slide"
    }
   },
   "source": [
    "We can also have lists of lists (but they are not matrices!)  and lists with different types and lengths"
   ]
  },
  {
   "cell_type": "code",
   "execution_count": null,
   "metadata": {
    "collapsed": false,
    "slideshow": {
     "slide_type": "fragment"
    }
   },
   "outputs": [],
   "source": [
    "multilist = [[1,2,3],[4,5,6],[7,8,9]]\n",
    "print(multilist)\n",
    "print(multilist[1][1])"
   ]
  },
  {
   "cell_type": "code",
   "execution_count": null,
   "metadata": {
    "collapsed": false,
    "slideshow": {
     "slide_type": "fragment"
    }
   },
   "outputs": [],
   "source": [
    "mixed_list = [[1,2,3],1,'a',1+2j]\n",
    "print(mixed_list)\n",
    "print(mixed_list[1])"
   ]
  },
  {
   "cell_type": "markdown",
   "metadata": {
    "collapsed": false
   },
   "source": [
    "We end our overview of *lists* by looking at some of the *methods* associated with it. The best method to discover them is to write a list and put a dot and the end and click TAB (might not work depending on your browser and OS)\n",
    "\n",
    "Some of the more relevant ones are shown below"
   ]
  },
  {
   "cell_type": "code",
   "execution_count": null,
   "metadata": {
    "collapsed": false
   },
   "outputs": [],
   "source": [
    "list_a = [4,3,2,1,4]\n",
    "print(\"The list:\",list_a)\n",
    "list_a.sort() # This sorts the elements of the list\n",
    "print(\"Ordered list:\",list_a)\n",
    "\n",
    "print(\"Size:\", len(list_a)) # Getting the size, i.e. number of elements of the list\n",
    "list_a.append(4)  # Adding a new element at the end of the list\n",
    "print(\"List with additional 4:\",list_a) \n",
    "elem = list_a.pop() # Take out the last element of the list\n",
    "print(\"Element and list after pop:\",elem, list_a)"
   ]
  },
  {
   "cell_type": "markdown",
   "metadata": {
    "collapsed": false,
    "slideshow": {
     "slide_type": "slide"
    }
   },
   "source": [
    "<a id=\"strings\"></a>\n",
    "\n",
    "### Strings\n",
    "\n",
    "We have enconuntered **strings** before. They can be manipulated in a way closed to lists.\n"
   ]
  },
  {
   "cell_type": "code",
   "execution_count": null,
   "metadata": {
    "collapsed": false
   },
   "outputs": [],
   "source": [
    "message = 'Hello again!'\n",
    "print(message)\n",
    "print(message[1:5])\n",
    "print(message[-1::-1])\n",
    "print(len(message))"
   ]
  },
  {
   "cell_type": "markdown",
   "metadata": {
    "collapsed": false
   },
   "source": [
    "Some methods are different and specific of strings"
   ]
  },
  {
   "cell_type": "code",
   "execution_count": null,
   "metadata": {
    "collapsed": false
   },
   "outputs": [],
   "source": [
    "print(message)\n",
    "print(message.upper())  #Turn to pper case \n",
    "print(message.title()) #Capitalise initial words\n",
    "print(message.split(' ')) #Suubstrings separated by a space \n",
    "print(message.replace('!','?')) #Replace ! with ?\n",
    "print(message.find('aga')) # returns the first position where the sub-stringg\n",
    "print(message.find('opo')) # returns -1 if no position is found"
   ]
  },
  {
   "cell_type": "markdown",
   "metadata": {
    "collapsed": false
   },
   "source": [
    "<a id=\"sets\"></a>\n",
    "\n",
    "### Sets, tuples and dictionaries\n",
    "\n",
    "Finally, let us look at some of the other structures available on Python."
   ]
  },
  {
   "cell_type": "markdown",
   "metadata": {
    "collapsed": false
   },
   "source": [
    "A *set* is a structure where elements are unique. They are created with curly braces *{ }*\n",
    "\n",
    "We can add elements, remove elements, and perform mathematical operations like union, intersection, symmetric difference."
   ]
  },
  {
   "cell_type": "code",
   "execution_count": null,
   "metadata": {
    "collapsed": false
   },
   "outputs": [],
   "source": [
    "set1 = {1,2,3,3}\n",
    "print(set1)\n",
    "set1.add('aa')\n",
    "print(set1)"
   ]
  },
  {
   "cell_type": "code",
   "execution_count": null,
   "metadata": {
    "collapsed": false
   },
   "outputs": [],
   "source": [
    "set2 = set([1,2,8,10]) # You can turn lists into sets\n",
    "print(\"set2:\",set2)\n",
    "print(\"set1 union set2\", set1|set2)\n",
    "print(\"set1 intersection set2\", set1&set2)\n",
    "print(\"set1 minus set2\", set1-set2)\n",
    "print(\"set2 minus set1\", set2-set1)"
   ]
  },
  {
   "cell_type": "markdown",
   "metadata": {
    "collapsed": false
   },
   "source": [
    "Note that sets do not have indices, so the following code does not make sense"
   ]
  },
  {
   "cell_type": "code",
   "execution_count": null,
   "metadata": {
    "collapsed": false
   },
   "outputs": [],
   "source": [
    "set1[1] # this generates an error"
   ]
  },
  {
   "cell_type": "markdown",
   "metadata": {
    "collapsed": false
   },
   "source": [
    "A *tuple* can be created using round braces.\n",
    "\n",
    "Tuples are similar to a list *except that* elements cannot be changed once created: they are an example of an immutable structure"
   ]
  },
  {
   "cell_type": "code",
   "execution_count": null,
   "metadata": {
    "collapsed": false
   },
   "outputs": [],
   "source": [
    "tuple1 = (1,2,3)\n",
    "print(tuple1)\n",
    "print(tuple1[1])"
   ]
  },
  {
   "cell_type": "code",
   "execution_count": null,
   "metadata": {
    "collapsed": false
   },
   "outputs": [],
   "source": [
    "tuple1[1]=3 #this generates an error ... tuples are immutable"
   ]
  },
  {
   "cell_type": "markdown",
   "metadata": {
    "collapsed": false
   },
   "source": [
    "Finally, a dictionary is a structure to connect keys and outputs. It is defined also using the curly braces *{ }*, but instead of simply listing the elements, we list couples of the form *key:value*. Keys can be any other immutable object (like numbers and basic strings).\n",
    "\n",
    "The key element is a generalisation of an index. Here are some examples:"
   ]
  },
  {
   "cell_type": "code",
   "execution_count": null,
   "metadata": {
    "collapsed": false
   },
   "outputs": [],
   "source": [
    "mydict = {50:2,'key2':'aa', 'a':1}\n",
    "print(mydict)"
   ]
  },
  {
   "cell_type": "code",
   "execution_count": null,
   "metadata": {
    "collapsed": false
   },
   "outputs": [],
   "source": [
    "print(mydict['key2'])\n",
    "print(mydict[50])\n",
    "print(mydict[50]+mydict['a'])"
   ]
  },
  {
   "cell_type": "markdown",
   "metadata": {
    "collapsed": false
   },
   "source": [
    "Here are some examples of methods for dictionaries"
   ]
  },
  {
   "cell_type": "code",
   "execution_count": null,
   "metadata": {
    "collapsed": false
   },
   "outputs": [],
   "source": [
    "mydict[50]=10  #Changing the entry with key 50 to 10\n",
    "print(mydict)\n",
    "mydict.pop(50) # Taking out the entry with key 50\n",
    "print(mydict)\n",
    "mydict.update({2:'c'}) # Adding an entry with key the number 1 and value 'c'\n",
    "print(mydict)"
   ]
  },
  {
   "cell_type": "markdown",
   "metadata": {
    "collapsed": false,
    "slideshow": {
     "slide_type": "slide"
    }
   },
   "source": [
    "<a id=\"flow\"></a>\n",
    "\n",
    "## Basic control flow statements\n",
    "\n",
    "\n",
    "To close this notebook, we will look at the essential control flow statements (i.e. commands to determine the flow of a program) in Python. The main ones are:\n",
    "\n",
    "- Conditionals:  *if (condition): ---  elif(condition): --- else:---*\n",
    "- Conditional loops:  *while (condition): ---   else:---*\n",
    "- Automatic loops:  *for (iterative): ---  \n",
    "\n",
    "The structure is determined by **indentation**\n",
    "\n",
    "Let us look at some examples: you are encouraged to change the inputs and modify the code until you undertstand how the flow of commands works.\n"
   ]
  },
  {
   "cell_type": "code",
   "execution_count": null,
   "metadata": {
    "collapsed": false
   },
   "outputs": [],
   "source": [
    "#Determine the bigger between two numbers\n",
    "\n",
    "a=4\n",
    "b=5\n",
    "\n",
    "if a > b:\n",
    "    print('I am running the first case')\n",
    "    print(str(a) +' is larger than ' + str(b))\n",
    "elif b >a:\n",
    "    print('I am running the second case')\n",
    "    print(str(b) +' is larger than '+ str(a))\n",
    "else:\n",
    "    print('I am running any other case')\n",
    "    print('Both are equal to '+str(a))\n"
   ]
  },
  {
   "cell_type": "markdown",
   "metadata": {
    "collapsed": false
   },
   "source": [
    "In the above code, the code indented after if is run only when the condition is satisfied. The code indented after elif is run only if a>b. The code indented after elif is run only if a>b is not satsified (i.e. a<=b) **and** b>a. Finally the code after else is run only if neither of the conditions is satsified (i.e. when a==b) "
   ]
  },
  {
   "cell_type": "code",
   "execution_count": null,
   "metadata": {
    "collapsed": false
   },
   "outputs": [],
   "source": [
    "# Print if the numbers of a list are even or odd\n",
    "\n",
    "m_list =[1,5,6,3,2]\n",
    "\n",
    "for i in m_list:\n",
    "    if i%2 == 0:\n",
    "        print(str(i) + ' is even' )\n",
    "    else:\n",
    "        print(str(i) + ' is odd' )"
   ]
  },
  {
   "cell_type": "markdown",
   "metadata": {
    "collapsed": false
   },
   "source": [
    "We can modify the above example to act on the first n natural numbers. To do this, we introduce the command *range*"
   ]
  },
  {
   "cell_type": "code",
   "execution_count": null,
   "metadata": {
    "collapsed": false
   },
   "outputs": [],
   "source": [
    "# Print if the numbers of a list are even or odd\n",
    "\n",
    "n=5\n",
    "\n",
    "for i in range(n):\n",
    "    if i%2 == 0:\n",
    "        print(str(i) + ' is even' )\n",
    "    else:\n",
    "        print(str(i) + ' is odd' )"
   ]
  },
  {
   "cell_type": "markdown",
   "metadata": {
    "collapsed": false
   },
   "source": [
    "In general, range can generate a pattern from a given start, to a given end with certain step: *range(start,end,step)*. If step is not given, step=1. \n",
    "\n",
    "Here is a version of the same code using *while* and avoiding *range*."
   ]
  },
  {
   "cell_type": "code",
   "execution_count": null,
   "metadata": {
    "collapsed": false
   },
   "outputs": [],
   "source": [
    "i = 0\n",
    "n = 5\n",
    "while i<n:\n",
    "    if i%2 == 0:\n",
    "        print(str(i) + ' is even' )\n",
    "    else:\n",
    "        print(str(i) + ' is odd' )\n",
    "    i+=1"
   ]
  },
  {
   "cell_type": "markdown",
   "metadata": {
    "collapsed": false
   },
   "source": [
    "Here is our last example combining many of the elements we introduced before. It prints the prime numbers that are less or equal to a given number using a cribe algorithm. Take it as an exercise to find out how (and why) it works. You might need some time to understand it: run it as many times as needed and change the code until you are satisfied that you know how it works."
   ]
  },
  {
   "cell_type": "code",
   "execution_count": null,
   "metadata": {
    "collapsed": false,
    "slideshow": {
     "slide_type": "-"
    }
   },
   "outputs": [],
   "source": [
    "# Print the prime numbers lower or equal to max_num, using a cribe algorithm\n",
    "\n",
    "# The next line contains is a jupyter notebook 'magic' command. See explanation in cell below\n",
    "%timeit   \n",
    "\n",
    "\n",
    "max_num = 30\n",
    "aux_cribe = (max_num+1)* [True]\n",
    "for i in range(2,max_num+1):\n",
    "    if aux_cribe[i]:\n",
    "        print (i)\n",
    "        aux_cribe[i] = False\n",
    "        j = 0\n",
    "        while i**2 +j*i < max_num+1:\n",
    "            aux_cribe[i**2 +j*i] = False\n",
    "            j = j+1\n",
    "        "
   ]
  },
  {
   "cell_type": "markdown",
   "metadata": {
    "collapsed": false
   },
   "source": [
    "Let me end by pointing out that in the last cell, we introduced a Jupyter Notebook 'magic' command. These are instructions that apply directly to jupyter notebook (and not Python) and that can do useful things. For instance, %timeit allows you to time the length a piece of code in a given cell takes to be executed (this number appears in the upper-right corner of the cell). If interested in learning other magic commands check [this link](https://ipython.readthedocs.io/en/stable/interactive/magics.html#line-magics)"
   ]
  },
  {
   "cell_type": "markdown",
   "metadata": {
    "collapsed": false,
    "slideshow": {
     "slide_type": "slide"
    }
   },
   "source": [
    "<a id=\"exercises\"></a>\n",
    "## Exercises\n",
    "\n",
    "1. Write your own code to sort a list of numbers. Compare with the method sort() we introduced before (for example on the list [5,5,1,2,1,5,10])"
   ]
  },
  {
   "cell_type": "code",
   "execution_count": null,
   "metadata": {
    "collapsed": false
   },
   "outputs": [],
   "source": []
  },
  {
   "cell_type": "markdown",
   "metadata": {
    "collapsed": false
   },
   "source": [
    "2. Write a code that, for a given tuple $(a,b,c)$,  returns the roots (possibly complex) of the equation\n",
    "$$ a x^2 + b x + c = 0 $$\n",
    "\n",
    "*Note*: if there is a double root, only one number must be returned."
   ]
  },
  {
   "cell_type": "code",
   "execution_count": null,
   "metadata": {
    "collapsed": false
   },
   "outputs": [],
   "source": [
    "\n",
    "\n"
   ]
  },
  {
   "cell_type": "markdown",
   "metadata": {
    "collapsed": false
   },
   "source": [
    "3. Starting from two integers, $a,b$, and an initial value $x[0]\\in \\mathbb{N}$ with $x[0]<2^b$, generate $k$ values of a sequence\n",
    "\n",
    "$$x[i+1]= (x[i]*a)_{mod\\  2^b}$$\n",
    "\n",
    "*Note*: this is one of the earliest forms of pseudo-random number generators. See for example this [wikipedia article](https://en.wikipedia.org/wiki/Linear_congruential_generator)"
   ]
  },
  {
   "cell_type": "code",
   "execution_count": null,
   "metadata": {
    "collapsed": false
   },
   "outputs": [],
   "source": [
    "\n",
    "\n",
    "\n"
   ]
  },
  {
   "cell_type": "code",
   "execution_count": null,
   "metadata": {
    "collapsed": false
   },
   "outputs": [],
   "source": []
  }
 ],
 "metadata": {
  "kernelspec": {
   "display_name": "Python 3 (system-wide)",
   "language": "python",
   "metadata": {
    "cocalc": {
     "description": "Python 3 programming language",
     "priority": 100,
     "url": "https://www.python.org/"
    }
   },
   "name": "python3",
   "resource_dir": "/ext/jupyter/kernels/python3"
  },
  "language_info": {
   "codemirror_mode": {
    "name": "ipython",
    "version": 3
   },
   "file_extension": ".py",
   "mimetype": "text/x-python",
   "name": "python",
   "nbconvert_exporter": "python",
   "pygments_lexer": "ipython3",
   "version": "3.8.10"
  },
  "toc": {
   "base_numbering": 1,
   "nav_menu": {},
   "number_sections": true,
   "sideBar": true,
   "skip_h1_title": true,
   "title_cell": "Table of Contents",
   "title_sidebar": "Contents",
   "toc_cell": true,
   "toc_position": {},
   "toc_section_display": true,
   "toc_window_display": false
  }
 },
 "nbformat": 4,
 "nbformat_minor": 4
}
