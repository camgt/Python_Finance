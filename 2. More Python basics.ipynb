{
 "cells": [
  {
   "cell_type": "markdown",
   "metadata": {
    "collapsed": false
   },
   "source": [
    "# More Python basics\n",
    "**Camilo A. Garcia Trillos**\n",
    "\n",
    "---"
   ]
  },
  {
   "cell_type": "markdown",
   "metadata": {
    "collapsed": false
   },
   "source": [
    "## In this notebook\n",
    "\n",
    "- we look at how to define and test *functions*, and how to think in terms of error management.\n",
    "- we discuss Python packages and start looking at some notable Python packages or libraries."
   ]
  },
  {
   "cell_type": "markdown",
   "metadata": {
    "collapsed": false
   },
   "source": [
    "<a id=\"func_def\"></a>\n",
    "## Function definition\n",
    "\n",
    "Python code is better structured by defining functions.\n",
    "\n",
    "The basic syntaxis is  *def name_function: ---  return(---)*\n",
    "\n",
    "Let us look at a first example: we will create a function that establishes if two integers are relative primes (i.e., that their maximum common divisor is 1). We will create several iterations of the function.\n",
    "\n",
    "Let us start with a first simple implementation:\n",
    "\n"
   ]
  },
  {
   "cell_type": "code",
   "execution_count": 5,
   "metadata": {
    "collapsed": false
   },
   "outputs": [
    {
     "data": {
      "text/plain": [
       "False"
      ]
     },
     "execution_count": 5,
     "metadata": {
     },
     "output_type": "execute_result"
    }
   ],
   "source": [
    "def rel_primes(x,y):\n",
    "    # We can include a description of the function using a string immediately below the function\n",
    "    ''' Receives two numbers and returns True if both are relative \n",
    "        primes or False otherwise\n",
    "    \n",
    "    '''\n",
    "    \n",
    "    z = min(x,y)                       # Assign to z the minimum from a and b\n",
    "    for i in range(2,z) :               # run over all numbers between 2 and z (!)\n",
    "        if (x%i)==0 and (y%i==0):      # if a number divides both a, b (i.e. the residual in both cases is zero) \n",
    "                                       # they are not relative primes ...\n",
    "            return False               # ... in this case, return is False. This gets the flow out of the function\n",
    "    return True                        # finally, if the program gets to this point, a,b are relative primes                      \n",
    "\n",
    "# Note that the following line of code is outside the scope of the function\n",
    "rel_primes(18,123) # This should be false, as 3 divides both\n"
   ]
  },
  {
   "cell_type": "markdown",
   "metadata": {
    "collapsed": false
   },
   "source": [
    "Check with other cases that the function works as it should. \n",
    "\n",
    "In Python, when the code within a function is executed, a new 'environment' is created. Every object/function that is defined within a function only lives within the function. So for example, the variables x,y,z above are not accessible in the following line"
   ]
  },
  {
   "cell_type": "code",
   "execution_count": 0,
   "metadata": {
    "collapsed": false
   },
   "outputs": [
   ],
   "source": [
    "print(x,y,z) # this generates an error"
   ]
  },
  {
   "cell_type": "markdown",
   "metadata": {
    "collapsed": false
   },
   "source": [
    "However, functions *can* access variables and functions defined outside themselves. This is useful (as will be seen further below), but is sometimes a source of confusion (particualrly regarding variables). "
   ]
  },
  {
   "cell_type": "markdown",
   "metadata": {
    "collapsed": false
   },
   "source": [
    "In the above definition of 'rel_prime, apart from the functional part, we included a help description. This information can be retrieved at any point with *?* after the name of a function."
   ]
  },
  {
   "cell_type": "code",
   "execution_count": 0,
   "metadata": {
    "collapsed": false
   },
   "outputs": [
   ],
   "source": [
    "rel_primes?"
   ]
  },
  {
   "cell_type": "markdown",
   "metadata": {
    "collapsed": false
   },
   "source": [
    "What happens when we test the function with values that are not integers?"
   ]
  },
  {
   "cell_type": "code",
   "execution_count": 0,
   "metadata": {
    "collapsed": false
   },
   "outputs": [
   ],
   "source": [
    "rel_primes('a',1) # this gives an error"
   ]
  },
  {
   "cell_type": "code",
   "execution_count": 0,
   "metadata": {
    "collapsed": false
   },
   "outputs": [
   ],
   "source": [
    "rel_primes(1.2,1.4)"
   ]
  },
  {
   "cell_type": "code",
   "execution_count": 0,
   "metadata": {
    "collapsed": false
   },
   "outputs": [
   ],
   "source": [
    "rel_primes(3,4.2)"
   ]
  },
  {
   "cell_type": "markdown",
   "metadata": {
    "collapsed": false
   },
   "source": [
    "<a id=\"error_man\"></a>\n",
    "### Error management"
   ]
  },
  {
   "cell_type": "markdown",
   "metadata": {
    "collapsed": false
   },
   "source": [
    "Note that sometimes we get an error and sometimes we do not. Moreover, the error is not very informative of what happened. We can create our own error messages. In what follows we create a function that 'wraps' the previous one, while providing some error management."
   ]
  },
  {
   "cell_type": "code",
   "execution_count": 6,
   "metadata": {
    "collapsed": false
   },
   "outputs": [
    {
     "name": "stdout",
     "output_type": "stream",
     "text": [
      "This one works: 18 and 123 are both integers (and not relative primes)\n"
     ]
    },
    {
     "data": {
      "text/plain": [
       "False"
      ]
     },
     "execution_count": 6,
     "metadata": {
     },
     "output_type": "execute_result"
    }
   ],
   "source": [
    "def rel_primes2(a,b):\n",
    "    \n",
    "    # First we check if the inputs have the right type. Recall the type function we look at on the first notebook.\n",
    "    \n",
    "    if type(a)!=int:\n",
    "        raise TypeError(\"Both numbers must be integers\")\n",
    "\n",
    "    if type(b)!=int:\n",
    "        raise TypeError(\"Both numbers must be integers\")\n",
    "    \n",
    "    # If no error is raised up to here, we call the original function.\n",
    "        \n",
    "    return rel_primes(a,b)  #Note that we can call functions we have defined before\n",
    "\n",
    "print('This one works: 18 and 123 are both integers (and not relative primes)')\n",
    "rel_primes2(18,123)\n"
   ]
  },
  {
   "cell_type": "code",
   "execution_count": 0,
   "metadata": {
    "collapsed": false
   },
   "outputs": [
   ],
   "source": [
    "rel_primes2('a',123) # Here we raise an error as we defined it"
   ]
  },
  {
   "cell_type": "markdown",
   "metadata": {
    "collapsed": false
   },
   "source": [
    "You can check that errors are raised in other cases (for example if you provide complex numbers or floats).\n",
    "\n",
    "The other very common type of error to be raised is ValueError (i.e. raise ValueError(...)). This means that a given input has a value outside the accepted domain.\n",
    "\n",
    "It is possible also to check if a call to a function produces an error using the keyword 'try', so that any error can be managed by the programmer. This can be useful when one wants to have tight control on the response of the program to unexpected values. Look at the example below"
   ]
  },
  {
   "cell_type": "code",
   "execution_count": 0,
   "metadata": {
    "collapsed": false
   },
   "outputs": [
   ],
   "source": [
    "a=1.2\n",
    "try:\n",
    "    p=rel_primes2(a,1)       # Try also using two integers like 3,5\n",
    "except:\n",
    "    print('There would be an error because ',a,' is not integer.')\n",
    "    print('But with try the error is caught here. We can then assign the value we want to p, for example -1')\n",
    "    p=-1\n",
    "    \n",
    "p"
   ]
  },
  {
   "cell_type": "markdown",
   "metadata": {
    "collapsed": false
   },
   "source": [
    "The program will try to run the instructions within the 'try' environment: if it gets to the end without any errors, the execution proceeds as if the environment was not there, and it continues after the end of the 'except' part. On the contrary, if an error is raised (as in the example above, where the function 'rel_prime2' will raise an error), the instructions inside the 'except' part are executed."
   ]
  },
  {
   "cell_type": "markdown",
   "metadata": {
    "collapsed": false
   },
   "source": [
    "<a id=\"test_fun\"></a>\n",
    "### Testing functions\n",
    "\n",
    "An important part of coding is testing. It entails designing a sequence of checks to evaluate the behaviour of a function.\n",
    "\n",
    "The statement *assert* might be very useful for this purpose. It raises an error if a result is False.\n"
   ]
  },
  {
   "cell_type": "code",
   "execution_count": 0,
   "metadata": {
    "collapsed": false
   },
   "outputs": [
   ],
   "source": [
   ]
  },
  {
   "cell_type": "code",
   "execution_count": 7,
   "metadata": {
    "collapsed": false
   },
   "outputs": [
    {
     "ename": "AssertionError",
     "evalue": "Failed with two small numbers that are not relative primes",
     "output_type": "error",
     "traceback": [
      "\u001b[0;31m---------------------------------------------------------------------------\u001b[0m",
      "\u001b[0;31mAssertionError\u001b[0m                            Traceback (most recent call last)",
      "\u001b[0;32m/tmp/ipykernel_376/2917276327.py\u001b[0m in \u001b[0;36m<cell line: 6>\u001b[0;34m()\u001b[0m\n\u001b[1;32m      4\u001b[0m \u001b[0;32massert\u001b[0m \u001b[0mrel_primes2\u001b[0m\u001b[0;34m(\u001b[0m\u001b[0;36m2\u001b[0m\u001b[0;34m,\u001b[0m\u001b[0;36m3\u001b[0m\u001b[0;34m)\u001b[0m\u001b[0;34m,\u001b[0m  \u001b[0;34m'Failed with two small relative primes'\u001b[0m\u001b[0;34m\u001b[0m\u001b[0;34m\u001b[0m\u001b[0m\n\u001b[1;32m      5\u001b[0m \u001b[0;32massert\u001b[0m \u001b[0;32mnot\u001b[0m \u001b[0mrel_primes2\u001b[0m\u001b[0;34m(\u001b[0m\u001b[0;36m15\u001b[0m\u001b[0;34m,\u001b[0m\u001b[0;36m25\u001b[0m\u001b[0;34m)\u001b[0m\u001b[0;34m,\u001b[0m  \u001b[0;34m'Failed with two small numbers that are not relative primes'\u001b[0m\u001b[0;34m\u001b[0m\u001b[0;34m\u001b[0m\u001b[0m\n\u001b[0;32m----> 6\u001b[0;31m \u001b[0;32massert\u001b[0m \u001b[0;32mnot\u001b[0m \u001b[0mrel_primes2\u001b[0m\u001b[0;34m(\u001b[0m\u001b[0;36m2\u001b[0m\u001b[0;34m,\u001b[0m\u001b[0;36m4\u001b[0m\u001b[0;34m)\u001b[0m\u001b[0;34m,\u001b[0m  \u001b[0;34m'Failed with two small numbers that are not relative primes'\u001b[0m\u001b[0;34m\u001b[0m\u001b[0;34m\u001b[0m\u001b[0m\n\u001b[0m",
      "\u001b[0;31mAssertionError\u001b[0m: Failed with two small numbers that are not relative primes"
     ]
    }
   ],
   "source": [
    "#Some basic testing\n",
    "\n",
    "assert rel_primes2(15,28),  'Failed with two large relative primes'\n",
    "assert rel_primes2(2,3),  'Failed with two small relative primes'\n",
    "assert not rel_primes2(15,25),  'Failed with two small numbers that are not relative primes'\n",
    "assert not rel_primes2(2,4),  'Failed with two small numbers that are not relative primes'"
   ]
  },
  {
   "cell_type": "code",
   "execution_count": 0,
   "metadata": {
    "collapsed": false
   },
   "outputs": [
   ],
   "source": [
   ]
  },
  {
   "cell_type": "markdown",
   "metadata": {
    "collapsed": false
   },
   "source": [
    "Note that we performed 4 tests. The last one fails and illustrates that the function defined above is not working properly. When the test fails, the associated fail message is displayed.\n",
    "\n",
    "We proceed to fix the error (which is located on the rel_prime function). Run the code below and then run the tests again."
   ]
  },
  {
   "cell_type": "code",
   "execution_count": 0,
   "metadata": {
    "collapsed": false
   },
   "outputs": [
   ],
   "source": [
    "def rel_primes(a,b):\n",
    "    # This is a corrected version\n",
    "    ''' Receives two numbers and returns True if both are relative \n",
    "        primes or False otherwise\n",
    "    \n",
    "    '''\n",
    "    \n",
    "    for i in range(2,min(a,b)+1) :       # The error was here\n",
    "        if (a%i)==0 and (b%i==0):                                             \n",
    "            return False               \n",
    "    return True                        "
   ]
  },
  {
   "cell_type": "markdown",
   "metadata": {
    "collapsed": false
   },
   "source": [
    "What happened? We have fixed the error on the rel_primes function (we were not including the las element in the cycle). Since the function rel_primes2 calls rel_prime, this one gets fixed as well. This helps it pass all the tests.\n",
    "\n",
    "Note we have learnt something very important in addition: in jupyter, code depends on the order of *execution*, not the order in which the code is written.\n",
    "\n",
    "There are other functions that work like *assert* but with more flexibility (for instance to check that answers are 'close'). We will encounter some of those as we move on on the course.\n",
    "\n",
    "**Remark:** You can run all validation routines from a notebook by clicking on the 'validate' button available in the command bar on Cocalc.\n",
    "\n",
    "\n",
    "**Remark:** In more professional settings, the preferred form of testing is via unittesting. If you want to learn more about it, read the [Python documentation on unittest](https://docs.python.org/3/library/unittest.html)\n"
   ]
  },
  {
   "cell_type": "markdown",
   "metadata": {
    "collapsed": false
   },
   "source": [
    "<a id=\"lambda_fun\"></a>\n",
    "### Lambda functions\n",
    "\n",
    "We had seen that to define a function in Python, we use the command def followed by the name of the function, arguments and colon. There is an alternative in the form of lambda functions, that is useful to define inline functions.\n",
    "\n",
    "The syntax is *name_function = lambda (vars): operations *\n",
    "\n",
    "\n",
    "Here is an example where we implement the same function twice.\n"
   ]
  },
  {
   "cell_type": "code",
   "execution_count": 8,
   "metadata": {
    "collapsed": false
   },
   "outputs": [
   ],
   "source": [
    "def square(x):\n",
    "    return x*x\n",
    "\n",
    "square2 = lambda y: y*y"
   ]
  },
  {
   "cell_type": "code",
   "execution_count": 10,
   "metadata": {
    "collapsed": false
   },
   "outputs": [
   ],
   "source": [
    "assert square(100)==square2(100)"
   ]
  },
  {
   "cell_type": "markdown",
   "metadata": {
    "collapsed": false
   },
   "source": [
    "Lambda functions are very convenient for short tasks. In particular it is an easy way to encapsulate one line instructions in a function. Note, though that lambda functions do not allow for easy error control like traditional 'def' functions."
   ]
  },
  {
   "cell_type": "markdown",
   "metadata": {
    "collapsed": false
   },
   "source": [
    "Some final observations: \n",
    "\n",
    "- Functions are not forced to return a value (sometimes these are called *procedures*)\n",
    "- More testing tools are provided on the [package](## 2. Packages) *unitest* \n"
   ]
  },
  {
   "cell_type": "markdown",
   "metadata": {
    "collapsed": false
   },
   "source": [
    "<a id=\"packages\"></a>\n",
    "## Packages"
   ]
  },
  {
   "cell_type": "markdown",
   "metadata": {
    "collapsed": false
   },
   "source": [
    "Python comes with many functions already defined. Some of them come as part of the standard language (we have encountered some of them). However, the real power of Python comes from sets of functions put together in *packages*. \n",
    "\n",
    "Here are some of the ones we will use in this course (and are very useful in finance):\n",
    "\n",
    "- **math** : some mathematical functions \n",
    "- **numpy** : vector and matrix capabilities and operations\n",
    "- **scipy** : numerical scientific computing including integration, fixed points, solving ODEs, optimisation, …)\n",
    "- **matplotlib** : plots\n",
    "- **pandas** : database access and manipulation, and more plots routines\n",
    "- **statutils**: Some statistical tools including test of hypothesis\n",
    "\n",
    "Some packages that we will not use but that are very useful in finance include:\n",
    "- **keras**: Keras is a high-level neural networks library\n",
    "- **sklearn**: A library with tools for data mining and data analysis\n",
    "\n",
    "\n",
    "Here and in the next notebook, we look at *numpy* and *math*. We will learn about the following packages while making applications in finance.\n",
    "\n",
    "Packages must be imported into the kernel we are executing. By convention all imports should be done at the start of the program, and in the Jupyter case at the start of the notebook."
   ]
  },
  {
   "cell_type": "code",
   "execution_count": 0,
   "metadata": {
    "collapsed": false
   },
   "outputs": [
   ],
   "source": [
    "# By convention this should be placed at the top of the file. But it can be used anywhere \n",
    "import math           # import the math package\n",
    "import numpy as np    # import the numpy package and create an alias for it 'np'\n",
    "from math import sin, exp  # import only the functions sin and exp that are located on the math package"
   ]
  },
  {
   "cell_type": "markdown",
   "metadata": {
    "collapsed": false
   },
   "source": [
    "After running the above code, we can use **all** functions on the math package. Here are some examples:"
   ]
  },
  {
   "cell_type": "code",
   "execution_count": 0,
   "metadata": {
    "collapsed": false
   },
   "outputs": [
   ],
   "source": [
    "x = sin(2*math.pi) # Note we can use the function sin, but the constant pi has to be called from the math package  as was not explicitly imported\n",
    "y = math.log(exp(-5))\n",
    "print(x,'\\n',y)"
   ]
  },
  {
   "cell_type": "markdown",
   "metadata": {
    "collapsed": false,
    "slideshow": {
     "slide_type": "slide"
    }
   },
   "source": [
    "### Some examples with numpy\n",
    "\n",
    "Let us now look at numpy. Numpy is a scientific library that has been optimised to perform vector and matrix operations.\n",
    "\n",
    "We start by looking at how to create numpy objects. We can either transform another structure (for example a list) using the function *array*, or we can use one of the functions producing directly an array. Here are some examples:"
   ]
  },
  {
   "cell_type": "code",
   "execution_count": 0,
   "metadata": {
    "collapsed": false
   },
   "outputs": [
   ],
   "source": [
    "a = np.array([3,4,5])  # an array with the numbers 3,4,5  (turning an iterable type like lists into array)\n",
    "b = np.arange(3,6)     # an arary with the numbers 3,4,5 (generating a sequence of numbers between 3 and 6 excluded)\n",
    "c = np.linspace(3,5,3) # an array with the numbers 3.,4.,5. (picking 3 equally distanced numbers between 3 and 5 included)\n",
    "\n",
    "print('a:',a,' b:',b, 'c:',c)\n",
    "print(type(a))\n",
    "a"
   ]
  },
  {
   "cell_type": "markdown",
   "metadata": {
    "collapsed": false
   },
   "source": [
    "Note that the above objects are of class *array*, which was defined in the package numpy. Observe also how the result is printed if no print function is invoked. \n",
    "\n",
    "Let us look at some simple operations before arrays:"
   ]
  },
  {
   "cell_type": "code",
   "execution_count": 0,
   "metadata": {
    "collapsed": false
   },
   "outputs": [
   ],
   "source": [
    "#Most operations are done piecewisely:\n",
    "print('1. a==b:', a==b)\n",
    "print('2. a+b:', a+b)\n",
    "print('3. a*b:', a*b)\n",
    "print('4. a/b:', a/b)\n",
    "print('5. a^b:', a**b)\n",
    "print('6. a==c:', a==c)"
   ]
  },
  {
   "cell_type": "markdown",
   "metadata": {
    "collapsed": false
   },
   "source": [
    "Note the difference with respect to lists: the operator *+* means vector addition. Note also that most operations like '*' and '/' are defined element-wise.\n",
    "\n",
    "Since operations are mostly element-wise, the sizes of vectors need to coincide or an error will be raised."
   ]
  },
  {
   "cell_type": "code",
   "execution_count": 0,
   "metadata": {
    "collapsed": false
   },
   "outputs": [
   ],
   "source": [
    "a2 = np.arange(10)\n",
    "print(a2,b)\n",
    "a2*b # This raises an error"
   ]
  },
  {
   "cell_type": "markdown",
   "metadata": {
    "collapsed": false
   },
   "source": [
    "\n",
    "We also have some vector and matrix operations. We can, for example, find the dot product of two vectors of the same size with the operator *@*"
   ]
  },
  {
   "cell_type": "code",
   "execution_count": 0,
   "metadata": {
    "collapsed": false
   },
   "outputs": [
   ],
   "source": [
    "# Dot product of a and b\n",
    "a_dot_b = a@b\n",
    "# An alternative way of calculating it\n",
    "a_dot_b2 = (a*b).sum()     # Sum is a method available for arrays\n",
    "print(a_dot_b, a_dot_b2)\n"
   ]
  },
  {
   "cell_type": "markdown",
   "metadata": {
    "collapsed": false
   },
   "source": [
    "We will frequently make use of the possibility to generate (pseudo) random numbers following some given distributions. Numpy allows for this through its sub-module *random*. We can generate (pseudo-)random arrays and matrices of a given size. Here are some examples using the current prefered way of calling the generator function."
   ]
  },
  {
   "cell_type": "code",
   "execution_count": 0,
   "metadata": {
    "collapsed": false,
    "slideshow": {
     "slide_type": "slide"
    }
   },
   "outputs": [
   ],
   "source": [
    "#Random numbers\n",
    "\n",
    "#Initialise generator\n",
    "rng = np.random.default_rng()\n",
    "\n",
    "#Uniform random numbers\n",
    "print('Uniform  2x2')\n",
    "c = rng.random((2,2)) # This creates a matrix of 2 x 2 of independent U[0,1] random numbers\n",
    "print(c)\n",
    "print (c.shape)\n",
    "print(c.size)\n",
    "\n",
    "print(\"====\")\n",
    "\n",
    "print('Gaussian 5x3')\n",
    "c = rng.standard_normal((5,3)) # This creates a matrix of 5 x 3 of independent standard Gaussian random numbers\n",
    "print(c)\n",
    "print (c.shape)\n",
    "print(c.size)"
   ]
  },
  {
   "cell_type": "markdown",
   "metadata": {
    "collapsed": false
   },
   "source": [
    "This produces arrays in dimension 2 or matrices. We can also see the second use of operator '@': matrix (and matrix-vector) multiplication:"
   ]
  },
  {
   "cell_type": "code",
   "execution_count": 0,
   "metadata": {
    "collapsed": false
   },
   "outputs": [
   ],
   "source": [
    "c@a # This is the result of multiplying the matrix c (Gaussian matrix) and the vector a"
   ]
  },
  {
   "cell_type": "markdown",
   "metadata": {
    "collapsed": false
   },
   "source": [
    "The random generator can produce samples from different distributions: look at the help for rng.normal, rng.lognormal, rng.exponential...."
   ]
  },
  {
   "cell_type": "code",
   "execution_count": 0,
   "metadata": {
    "collapsed": false
   },
   "outputs": [
   ],
   "source": [
    "rng.normal(5,25,30)"
   ]
  },
  {
   "cell_type": "markdown",
   "metadata": {
    "collapsed": false
   },
   "source": [
    "**Remark:** Once imported, we can make use of numpy functions within our function definitions. We can also import a module *within* a function definition, however in that case, the imported modules are available only within that function."
   ]
  },
  {
   "cell_type": "markdown",
   "metadata": {
    "collapsed": false,
    "slideshow": {
     "slide_type": "slide"
    }
   },
   "source": [
    "<a id=\"exercises\"></a>\n",
    "## Exercises\n",
    "\n",
    "1. Create a function that receives a positive integer $n$ and a probability $p \\in (0,1)$, and returns the mean and standard deviation of a binomial distribution with these parameters.\n",
    "Your function must raise errors whenever the probability is outside the given range, and in the case when the number n is not and integer greater than 0. (Some 'assert' tests are given below)"
   ]
  },
  {
   "cell_type": "code",
   "execution_count": 0,
   "metadata": {
    "collapsed": false
   },
   "outputs": [
   ],
   "source": [
    "# Write your answer here\n",
    "\n",
    "def stats_binomial(n,p):               \n",
    "    raise NotImplementedError()  #Be sure to delete this command when writing your function. It is here to remind you something has to be done."
   ]
  },
  {
   "cell_type": "code",
   "execution_count": 0,
   "metadata": {
    "collapsed": false
   },
   "outputs": [
   ],
   "source": [
    "# You can test your code with these commands\n",
    "\n",
    "assert stats_binomial(1,0.5) == (0.5,0.5)\n",
    "assert stats_binomial(18,1/3) == (6,2)\n",
    "assert stats_binomial(18,2/3) == (12,2)\n"
   ]
  },
  {
   "cell_type": "markdown",
   "metadata": {
    "collapsed": false
   },
   "source": [
    "2. Using np.rand, create a function that receives a positive integer $n$ and a probability $p \\in (0,1)$, and returns an array with $n$ Bernoulli trials with parameter $p$. \n",
    "Your function must raise errors whenever the probability is outside the given range and if that the number n is not and integer greater than 0.\n"
   ]
  },
  {
   "cell_type": "code",
   "execution_count": 0,
   "metadata": {
    "collapsed": false
   },
   "outputs": [
   ],
   "source": [
   ]
  },
  {
   "cell_type": "markdown",
   "metadata": {
    "collapsed": false
   },
   "source": [
    "3. Using the previous function, estimate the empirical mean and variance for n=[10,100,1000,10000]. Comment."
   ]
  },
  {
   "cell_type": "code",
   "execution_count": 0,
   "metadata": {
    "collapsed": false
   },
   "outputs": [
   ],
   "source": [
   ]
  },
  {
   "cell_type": "code",
   "execution_count": 0,
   "metadata": {
    "collapsed": false
   },
   "outputs": [
   ],
   "source": [
   ]
  }
 ],
 "metadata": {
  "kernelspec": {
   "argv": [
    "/usr/bin/python3",
    "-m",
    "ipykernel",
    "--HistoryManager.enabled=False",
    "--matplotlib=inline",
    "-c",
    "%config InlineBackend.figure_formats = set(['retina'])\nimport matplotlib; matplotlib.rcParams['figure.figsize'] = (12, 7)",
    "-f",
    "{connection_file}"
   ],
   "display_name": "Python 3 (system-wide)",
   "env": {
   },
   "language": "python",
   "metadata": {
    "cocalc": {
     "description": "Python 3 programming language",
     "priority": 100,
     "url": "https://www.python.org/"
    }
   },
   "name": "python3",
   "resource_dir": "/ext/jupyter/kernels/python3"
  },
  "language_info": {
   "codemirror_mode": {
    "name": "ipython",
    "version": 3
   },
   "file_extension": ".py",
   "mimetype": "text/x-python",
   "name": "python",
   "nbconvert_exporter": "python",
   "pygments_lexer": "ipython3",
   "version": "3.10.12"
  },
  "toc": {
   "base_numbering": 1,
   "nav_menu": {
   },
   "number_sections": true,
   "sideBar": true,
   "skip_h1_title": true,
   "title_cell": "Table of Contents",
   "title_sidebar": "Contents",
   "toc_cell": true,
   "toc_position": {
   },
   "toc_section_display": true,
   "toc_window_display": false
  }
 },
 "nbformat": 4,
 "nbformat_minor": 4
}