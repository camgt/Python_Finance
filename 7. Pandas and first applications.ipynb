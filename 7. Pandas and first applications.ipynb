{
 "cells": [
  {
   "cell_type": "markdown",
   "metadata": {
    "collapsed": false,
    "nbpresent": {
     "id": "52d255a2-a6bb-4f70-8d88-9bed725e12c3"
    },
    "slideshow": {
     "slide_type": "slide"
    }
   },
   "source": [
    "# Pandas and first applications\n",
    "**Camilo A. Garcia Trillos**"
   ]
  },
  {
   "cell_type": "markdown",
   "metadata": {
    "collapsed": false,
    "nbpresent": {
     "id": "78cb6670-018b-4830-bdc5-654d5b59291f"
    },
    "slideshow": {
     "slide_type": "slide"
    }
   },
   "source": [
    "## Objective\n",
    "\n",
    "Our objective in this part of the course is to develop a general framework to apply the theory we have studied in practice.\n",
    "\n",
    "We discuss several important elements to take into account in most applications. \n",
    "\n",
    "This discussion is then illustrated by means of some simple applications using actual market data and Python routines\n"
   ]
  },
  {
   "cell_type": "markdown",
   "metadata": {
    "collapsed": false,
    "nbpresent": {
     "id": "0404c270-e9e8-43d3-bf8f-e8f85125f7db"
    },
    "slideshow": {
     "slide_type": "slide"
    }
   },
   "source": [
    "## Goal, Method, Model and Data\n",
    "\n",
    "- The first question is always **what do we want to study/understand?** i.e. we start by fixing our *goal*.\n",
    "- To answer this question, we choose a *methodology* (that is, a theoretical framework like the ones we presented in class).\n",
    "- The methodology is usually accompany by a *model*, a representation of the system we want to study\n",
    "- This *model* is fitted using relevant data\n",
    "\n",
    "Our discussion today will be focused on the data\n"
   ]
  },
  {
   "cell_type": "markdown",
   "metadata": {
    "collapsed": false,
    "nbpresent": {
     "id": "2389dee0-7020-4298-9e1f-61693cc91cf6"
    },
    "slideshow": {
     "slide_type": "slide"
    }
   },
   "source": [
    "## Market Data\n",
    "\n",
    "- Getting data \n",
    "  - Which data? Relation between data, goal and model\n",
    "  - How? Build, buy and/or gather\n",
    "    - Public: https://data.gov.uk/\n",
    "    - Payed, Research oriented: CRSP, Compustat , Wharton Research\n",
    "    - Financial data provider: Bloomberg, Reuters (refinitiv), Quandl, Ravenspack\n",
    "    - Free (limited): yahoo.finance\n",
    "  - Know your data: tickers, meaning of different variables\n",
    "\n",
    "\n"
   ]
  },
  {
   "cell_type": "markdown",
   "metadata": {
    "collapsed": false,
    "slideshow": {
     "slide_type": "slide"
    }
   },
   "source": [
    "## What to do with data?\n",
    "\n",
    "- Understand data: Explore and visualise the data.\n",
    "- Clean data \n",
    "  - Changes in time\n",
    "  - Gaps\n",
    "  - Frequencies\n",
    "  - Outliers\n",
    "  - Correct merging or manipulation errors\n",
    "- Make calculations\n",
    "- Understand and test results.\n"
   ]
  },
  {
   "cell_type": "markdown",
   "metadata": {
    "collapsed": false,
    "nbpresent": {
     "id": "3168c49b-5abc-4e00-bb08-3fa09b282616"
    },
    "slideshow": {
     "slide_type": "slide"
    }
   },
   "source": [
    "## Using Data\n",
    "\n",
    "Here, we are going to learn how to deal with some simple routines to work with data within Python, using the **pandas** package.\n",
    "\n",
    "\n",
    "Students should have a look at things like **SQL**.\n"
   ]
  },
  {
   "cell_type": "code",
   "execution_count": 35,
   "metadata": {
    "collapsed": false,
    "nbpresent": {
     "id": "f081ccb9-7804-4702-bc59-253c313f246a"
    },
    "slideshow": {
     "slide_type": "subslide"
    }
   },
   "outputs": [],
   "source": [
    "import numpy as np\n",
    "import matplotlib.pylab as plt\n",
    "import pandas as pd\n",
    "%matplotlib inline"
   ]
  },
  {
   "cell_type": "markdown",
   "metadata": {
    "collapsed": false,
    "slideshow": {
     "slide_type": "skip"
    }
   },
   "source": [
    "## Dataframes"
   ]
  },
  {
   "cell_type": "code",
   "execution_count": null,
   "metadata": {
    "collapsed": false
   },
   "outputs": [],
   "source": []
  },
  {
   "cell_type": "markdown",
   "metadata": {
    "collapsed": false,
    "nbpresent": {
     "id": "223baab8-14ca-4321-9f1a-874dfc411110"
    },
    "slideshow": {
     "slide_type": "slide"
    }
   },
   "source": [
    "\n",
    "### Importing a database \n",
    "\n",
    "We are going to import four years of Dow Jones Data from STOOQ, using the pandas-datareader package. The following command reads a remote file and creates a dataframe in pandas.\n",
    "\n",
    "\n",
    "---\n",
    "\n",
    "<sup>1</sup> <small>Before, it was possible to use a Google and Yahoo finance API to download financial information. It seems it is not working at the time.</small>"
   ]
  },
  {
   "cell_type": "code",
   "execution_count": 36,
   "metadata": {},
   "outputs": [],
   "source": [
    "import pandas_datareader.data as webd\n",
    "\n",
    "\n",
    "DJI = webd.DataReader('^DJI', 'stooq', '2019-01-01',  '2022-12-31')\n"
   ]
  },
  {
   "cell_type": "code",
   "execution_count": 37,
   "metadata": {
    "collapsed": false,
    "nbpresent": {
     "id": "ca653d1c-be2c-4d53-aa23-d99f708115f3"
    }
   },
   "outputs": [
    {
     "data": {
      "text/plain": [
       "pandas.core.frame.DataFrame"
      ]
     },
     "execution_count": 37,
     "metadata": {},
     "output_type": "execute_result"
    }
   ],
   "source": [
    "type(DJI)"
   ]
  },
  {
   "cell_type": "markdown",
   "metadata": {
    "collapsed": false
   },
   "source": [
    "\n",
    "\n",
    "A dataframe is the main type of structure provided by Pandas: it implements the notion of database."
   ]
  },
  {
   "cell_type": "markdown",
   "metadata": {
    "collapsed": false,
    "slideshow": {
     "slide_type": "slide"
    }
   },
   "source": [
    "Let us look at some of the methods associated with a database"
   ]
  },
  {
   "cell_type": "markdown",
   "metadata": {
    "collapsed": false,
    "slideshow": {
     "slide_type": "slide"
    }
   },
   "source": [
    "Describe: presents some general statistics on numerical data in the database."
   ]
  },
  {
   "cell_type": "code",
   "execution_count": 38,
   "metadata": {
    "collapsed": false
   },
   "outputs": [
    {
     "data": {
      "text/html": [
       "<div>\n",
       "<style scoped>\n",
       "    .dataframe tbody tr th:only-of-type {\n",
       "        vertical-align: middle;\n",
       "    }\n",
       "\n",
       "    .dataframe tbody tr th {\n",
       "        vertical-align: top;\n",
       "    }\n",
       "\n",
       "    .dataframe thead th {\n",
       "        text-align: right;\n",
       "    }\n",
       "</style>\n",
       "<table border=\"1\" class=\"dataframe\">\n",
       "  <thead>\n",
       "    <tr style=\"text-align: right;\">\n",
       "      <th></th>\n",
       "      <th>Open</th>\n",
       "      <th>High</th>\n",
       "      <th>Low</th>\n",
       "      <th>Close</th>\n",
       "      <th>Volume</th>\n",
       "    </tr>\n",
       "  </thead>\n",
       "  <tbody>\n",
       "    <tr>\n",
       "      <th>count</th>\n",
       "      <td>1008.000000</td>\n",
       "      <td>1008.000000</td>\n",
       "      <td>1008.000000</td>\n",
       "      <td>1008.000000</td>\n",
       "      <td>1.008000e+03</td>\n",
       "    </tr>\n",
       "    <tr>\n",
       "      <th>mean</th>\n",
       "      <td>30045.754732</td>\n",
       "      <td>30233.496052</td>\n",
       "      <td>29847.023681</td>\n",
       "      <td>30049.764891</td>\n",
       "      <td>3.802458e+08</td>\n",
       "    </tr>\n",
       "    <tr>\n",
       "      <th>std</th>\n",
       "      <td>3899.834389</td>\n",
       "      <td>3894.977042</td>\n",
       "      <td>3904.413739</td>\n",
       "      <td>3897.508805</td>\n",
       "      <td>1.360294e+08</td>\n",
       "    </tr>\n",
       "    <tr>\n",
       "      <th>min</th>\n",
       "      <td>19028.360000</td>\n",
       "      <td>19121.010000</td>\n",
       "      <td>18213.650000</td>\n",
       "      <td>18591.930000</td>\n",
       "      <td>8.615198e+07</td>\n",
       "    </tr>\n",
       "    <tr>\n",
       "      <th>25%</th>\n",
       "      <td>26665.187500</td>\n",
       "      <td>26804.547500</td>\n",
       "      <td>26535.842500</td>\n",
       "      <td>26658.430000</td>\n",
       "      <td>2.955294e+08</td>\n",
       "    </tr>\n",
       "    <tr>\n",
       "      <th>50%</th>\n",
       "      <td>30039.640000</td>\n",
       "      <td>30225.645000</td>\n",
       "      <td>29852.725000</td>\n",
       "      <td>30027.115000</td>\n",
       "      <td>3.545953e+08</td>\n",
       "    </tr>\n",
       "    <tr>\n",
       "      <th>75%</th>\n",
       "      <td>33856.845000</td>\n",
       "      <td>34043.867500</td>\n",
       "      <td>33624.270000</td>\n",
       "      <td>33880.565000</td>\n",
       "      <td>4.404089e+08</td>\n",
       "    </tr>\n",
       "    <tr>\n",
       "      <th>max</th>\n",
       "      <td>36722.600000</td>\n",
       "      <td>36952.650000</td>\n",
       "      <td>36636.000000</td>\n",
       "      <td>36799.650000</td>\n",
       "      <td>2.191756e+09</td>\n",
       "    </tr>\n",
       "  </tbody>\n",
       "</table>\n",
       "</div>"
      ],
      "text/plain": [
       "               Open          High           Low         Close        Volume\n",
       "count   1008.000000   1008.000000   1008.000000   1008.000000  1.008000e+03\n",
       "mean   30045.754732  30233.496052  29847.023681  30049.764891  3.802458e+08\n",
       "std     3899.834389   3894.977042   3904.413739   3897.508805  1.360294e+08\n",
       "min    19028.360000  19121.010000  18213.650000  18591.930000  8.615198e+07\n",
       "25%    26665.187500  26804.547500  26535.842500  26658.430000  2.955294e+08\n",
       "50%    30039.640000  30225.645000  29852.725000  30027.115000  3.545953e+08\n",
       "75%    33856.845000  34043.867500  33624.270000  33880.565000  4.404089e+08\n",
       "max    36722.600000  36952.650000  36636.000000  36799.650000  2.191756e+09"
      ]
     },
     "execution_count": 38,
     "metadata": {},
     "output_type": "execute_result"
    }
   ],
   "source": [
    "DJI.describe() # This command shows some general statistics on the data"
   ]
  },
  {
   "cell_type": "markdown",
   "metadata": {
    "collapsed": false,
    "slideshow": {
     "slide_type": "slide"
    }
   },
   "source": [
    "The methods *head* and *tail* show respectively the first (5, if no argument given) and last entries of the database. "
   ]
  },
  {
   "cell_type": "code",
   "execution_count": 39,
   "metadata": {
    "collapsed": false,
    "nbpresent": {
     "id": "270b2f50-b159-444f-ba62-0476f0ab61ae"
    }
   },
   "outputs": [
    {
     "data": {
      "text/html": [
       "<div>\n",
       "<style scoped>\n",
       "    .dataframe tbody tr th:only-of-type {\n",
       "        vertical-align: middle;\n",
       "    }\n",
       "\n",
       "    .dataframe tbody tr th {\n",
       "        vertical-align: top;\n",
       "    }\n",
       "\n",
       "    .dataframe thead th {\n",
       "        text-align: right;\n",
       "    }\n",
       "</style>\n",
       "<table border=\"1\" class=\"dataframe\">\n",
       "  <thead>\n",
       "    <tr style=\"text-align: right;\">\n",
       "      <th></th>\n",
       "      <th>Open</th>\n",
       "      <th>High</th>\n",
       "      <th>Low</th>\n",
       "      <th>Close</th>\n",
       "      <th>Volume</th>\n",
       "    </tr>\n",
       "    <tr>\n",
       "      <th>Date</th>\n",
       "      <th></th>\n",
       "      <th></th>\n",
       "      <th></th>\n",
       "      <th></th>\n",
       "      <th></th>\n",
       "    </tr>\n",
       "  </thead>\n",
       "  <tbody>\n",
       "    <tr>\n",
       "      <th>2022-12-30</th>\n",
       "      <td>33121.61</td>\n",
       "      <td>33152.55</td>\n",
       "      <td>32847.82</td>\n",
       "      <td>33147.25</td>\n",
       "      <td>296466276.0</td>\n",
       "    </tr>\n",
       "    <tr>\n",
       "      <th>2022-12-29</th>\n",
       "      <td>33021.43</td>\n",
       "      <td>33293.42</td>\n",
       "      <td>33020.35</td>\n",
       "      <td>33220.80</td>\n",
       "      <td>246092457.0</td>\n",
       "    </tr>\n",
       "    <tr>\n",
       "      <th>2022-12-28</th>\n",
       "      <td>33264.76</td>\n",
       "      <td>33379.55</td>\n",
       "      <td>32869.15</td>\n",
       "      <td>32875.71</td>\n",
       "      <td>254988084.0</td>\n",
       "    </tr>\n",
       "    <tr>\n",
       "      <th>2022-12-27</th>\n",
       "      <td>33224.23</td>\n",
       "      <td>33387.72</td>\n",
       "      <td>33069.58</td>\n",
       "      <td>33241.56</td>\n",
       "      <td>247056048.0</td>\n",
       "    </tr>\n",
       "    <tr>\n",
       "      <th>2022-12-23</th>\n",
       "      <td>32961.06</td>\n",
       "      <td>33226.14</td>\n",
       "      <td>32814.02</td>\n",
       "      <td>33203.93</td>\n",
       "      <td>221932148.0</td>\n",
       "    </tr>\n",
       "  </tbody>\n",
       "</table>\n",
       "</div>"
      ],
      "text/plain": [
       "                Open      High       Low     Close       Volume\n",
       "Date                                                           \n",
       "2022-12-30  33121.61  33152.55  32847.82  33147.25  296466276.0\n",
       "2022-12-29  33021.43  33293.42  33020.35  33220.80  246092457.0\n",
       "2022-12-28  33264.76  33379.55  32869.15  32875.71  254988084.0\n",
       "2022-12-27  33224.23  33387.72  33069.58  33241.56  247056048.0\n",
       "2022-12-23  32961.06  33226.14  32814.02  33203.93  221932148.0"
      ]
     },
     "execution_count": 39,
     "metadata": {},
     "output_type": "execute_result"
    }
   ],
   "source": [
    "DJI.head() # Show the first elements"
   ]
  },
  {
   "cell_type": "code",
   "execution_count": 40,
   "metadata": {
    "collapsed": false,
    "slideshow": {
     "slide_type": "slide"
    }
   },
   "outputs": [
    {
     "data": {
      "text/html": [
       "<div>\n",
       "<style scoped>\n",
       "    .dataframe tbody tr th:only-of-type {\n",
       "        vertical-align: middle;\n",
       "    }\n",
       "\n",
       "    .dataframe tbody tr th {\n",
       "        vertical-align: top;\n",
       "    }\n",
       "\n",
       "    .dataframe thead th {\n",
       "        text-align: right;\n",
       "    }\n",
       "</style>\n",
       "<table border=\"1\" class=\"dataframe\">\n",
       "  <thead>\n",
       "    <tr style=\"text-align: right;\">\n",
       "      <th></th>\n",
       "      <th>Open</th>\n",
       "      <th>High</th>\n",
       "      <th>Low</th>\n",
       "      <th>Close</th>\n",
       "      <th>Volume</th>\n",
       "    </tr>\n",
       "    <tr>\n",
       "      <th>Date</th>\n",
       "      <th></th>\n",
       "      <th></th>\n",
       "      <th></th>\n",
       "      <th></th>\n",
       "      <th></th>\n",
       "    </tr>\n",
       "  </thead>\n",
       "  <tbody>\n",
       "    <tr>\n",
       "      <th>2019-01-08</th>\n",
       "      <td>23680.32</td>\n",
       "      <td>23864.65</td>\n",
       "      <td>23581.45</td>\n",
       "      <td>23787.45</td>\n",
       "      <td>317413830.0</td>\n",
       "    </tr>\n",
       "    <tr>\n",
       "      <th>2019-01-07</th>\n",
       "      <td>23474.26</td>\n",
       "      <td>23687.74</td>\n",
       "      <td>23301.59</td>\n",
       "      <td>23531.35</td>\n",
       "      <td>334185364.0</td>\n",
       "    </tr>\n",
       "    <tr>\n",
       "      <th>2019-01-04</th>\n",
       "      <td>22894.92</td>\n",
       "      <td>23518.64</td>\n",
       "      <td>22894.92</td>\n",
       "      <td>23433.16</td>\n",
       "      <td>395923318.0</td>\n",
       "    </tr>\n",
       "    <tr>\n",
       "      <th>2019-01-03</th>\n",
       "      <td>23176.39</td>\n",
       "      <td>23176.39</td>\n",
       "      <td>22638.41</td>\n",
       "      <td>22686.22</td>\n",
       "      <td>424276458.0</td>\n",
       "    </tr>\n",
       "    <tr>\n",
       "      <th>2019-01-02</th>\n",
       "      <td>23058.61</td>\n",
       "      <td>23413.47</td>\n",
       "      <td>22928.59</td>\n",
       "      <td>23346.24</td>\n",
       "      <td>321542416.0</td>\n",
       "    </tr>\n",
       "  </tbody>\n",
       "</table>\n",
       "</div>"
      ],
      "text/plain": [
       "                Open      High       Low     Close       Volume\n",
       "Date                                                           \n",
       "2019-01-08  23680.32  23864.65  23581.45  23787.45  317413830.0\n",
       "2019-01-07  23474.26  23687.74  23301.59  23531.35  334185364.0\n",
       "2019-01-04  22894.92  23518.64  22894.92  23433.16  395923318.0\n",
       "2019-01-03  23176.39  23176.39  22638.41  22686.22  424276458.0\n",
       "2019-01-02  23058.61  23413.47  22928.59  23346.24  321542416.0"
      ]
     },
     "execution_count": 40,
     "metadata": {},
     "output_type": "execute_result"
    }
   ],
   "source": [
    "DJI.tail() # Show the last elements"
   ]
  },
  {
   "cell_type": "markdown",
   "metadata": {
    "collapsed": false,
    "slideshow": {
     "slide_type": "skip"
    }
   },
   "source": [
    "\n",
    "\n",
    "These commands give us an idea of what is on the database: it is composed by many rows (1008) with 6 different named fields. There is a special column, 'date' acting as an index, and we will come back to it later. "
   ]
  },
  {
   "cell_type": "markdown",
   "metadata": {
    "collapsed": false,
    "slideshow": {
     "slide_type": "slide"
    }
   },
   "source": [
    "Note that we have a mix of different types of entries. Indeed, let us look at the types of each one of the columns."
   ]
  },
  {
   "cell_type": "code",
   "execution_count": 41,
   "metadata": {
    "collapsed": false
   },
   "outputs": [
    {
     "data": {
      "text/plain": [
       "Open      float64\n",
       "High      float64\n",
       "Low       float64\n",
       "Close     float64\n",
       "Volume    float64\n",
       "dtype: object"
      ]
     },
     "execution_count": 41,
     "metadata": {},
     "output_type": "execute_result"
    }
   ],
   "source": [
    "DJI.dtypes"
   ]
  },
  {
   "cell_type": "markdown",
   "metadata": {
    "collapsed": false,
    "slideshow": {
     "slide_type": "notes"
    }
   },
   "source": [
    "The above command show us a list of all fields in the dataframe and the types of each one of them. Most of them are float numbers (float64) and an 'object' type (more on this in a moment). \n"
   ]
  },
  {
   "cell_type": "markdown",
   "metadata": {
    "collapsed": false,
    "slideshow": {
     "slide_type": "subslide"
    }
   },
   "source": [
    "\n",
    "Let us discuss the meaning of each one of these entries:\n",
    "\n",
    "- date:   the date at which the information is collected.\n",
    "\n",
    "The following data are unadjusted, i.e., are presented as they occurred on the given date.\n",
    "\n",
    "- open:   the price of the stock at the start of the trading day.\n",
    "- high:   the maximum price the stock achieved during the trading day.\n",
    "- close : the price of the stock at the end of the trading day.\n",
    "- volume: the amount in dollars exchanged on this stock during the trading day\n",
    "\n",
    "\n"
   ]
  },
  {
   "cell_type": "markdown",
   "metadata": {
    "collapsed": false,
    "slideshow": {
     "slide_type": "slide"
    }
   },
   "source": [
    "\n",
    "## Series\n",
    "\n",
    "Dataframes are composed by series, which are, in turn a collection of individual (or scalar) entries.\n",
    "\n",
    "We can extract and operate on series by passing the name of the entry to the database.\n",
    "\n"
   ]
  },
  {
   "cell_type": "code",
   "execution_count": 42,
   "metadata": {
    "collapsed": false
   },
   "outputs": [
    {
     "name": "stdout",
     "output_type": "stream",
     "text": [
      "Date\n",
      "2022-12-30    33152.55\n",
      "2022-12-29    33293.42\n",
      "2022-12-28    33379.55\n",
      "2022-12-27    33387.72\n",
      "2022-12-23    33226.14\n",
      "                ...   \n",
      "2019-01-08    23864.65\n",
      "2019-01-07    23687.74\n",
      "2019-01-04    23518.64\n",
      "2019-01-03    23176.39\n",
      "2019-01-02    23413.47\n",
      "Name: High, Length: 1008, dtype: float64\n",
      "type of adjmax <class 'pandas.core.series.Series'>\n"
     ]
    }
   ],
   "source": [
    "high = DJI['High']\n",
    "low = DJI['Low']\n",
    "\n",
    "print(high)\n",
    "print('type of adjmax', type(high))"
   ]
  },
  {
   "cell_type": "markdown",
   "metadata": {
    "collapsed": false,
    "slideshow": {
     "slide_type": "notes"
    }
   },
   "source": [
    "Above we extracted the series of adjusted low and high. Note the corresponding indices are retrieved as well. \n"
   ]
  },
  {
   "cell_type": "markdown",
   "metadata": {
    "collapsed": false,
    "slideshow": {
     "slide_type": "slide"
    }
   },
   "source": [
    "\n",
    "Several operations can then be performed on these series. For example, we can create a new series containing the rage of values for each date:"
   ]
  },
  {
   "cell_type": "code",
   "execution_count": 43,
   "metadata": {
    "collapsed": false
   },
   "outputs": [
    {
     "name": "stdout",
     "output_type": "stream",
     "text": [
      "Date\n",
      "2022-12-30    304.73\n",
      "2022-12-29    273.07\n",
      "2022-12-28    510.40\n",
      "2022-12-27    318.14\n",
      "2022-12-23    412.12\n",
      "               ...  \n",
      "2019-01-08    283.20\n",
      "2019-01-07    386.15\n",
      "2019-01-04    623.72\n",
      "2019-01-03    537.98\n",
      "2019-01-02    484.88\n",
      "Length: 1008, dtype: float64\n"
     ]
    }
   ],
   "source": [
    "range_ = high-low # we use a final udnerscore to distinguish this series from the function range\n",
    "print(range_)\n",
    "\n"
   ]
  },
  {
   "cell_type": "markdown",
   "metadata": {
    "collapsed": false,
    "slideshow": {
     "slide_type": "slide"
    }
   },
   "source": [
    "We can add the newly created ranges to our database as a new column, as follows:"
   ]
  },
  {
   "cell_type": "code",
   "execution_count": 44,
   "metadata": {
    "collapsed": false
   },
   "outputs": [
    {
     "data": {
      "text/html": [
       "<div>\n",
       "<style scoped>\n",
       "    .dataframe tbody tr th:only-of-type {\n",
       "        vertical-align: middle;\n",
       "    }\n",
       "\n",
       "    .dataframe tbody tr th {\n",
       "        vertical-align: top;\n",
       "    }\n",
       "\n",
       "    .dataframe thead th {\n",
       "        text-align: right;\n",
       "    }\n",
       "</style>\n",
       "<table border=\"1\" class=\"dataframe\">\n",
       "  <thead>\n",
       "    <tr style=\"text-align: right;\">\n",
       "      <th></th>\n",
       "      <th>Open</th>\n",
       "      <th>High</th>\n",
       "      <th>Low</th>\n",
       "      <th>Close</th>\n",
       "      <th>Volume</th>\n",
       "      <th>range</th>\n",
       "    </tr>\n",
       "    <tr>\n",
       "      <th>Date</th>\n",
       "      <th></th>\n",
       "      <th></th>\n",
       "      <th></th>\n",
       "      <th></th>\n",
       "      <th></th>\n",
       "      <th></th>\n",
       "    </tr>\n",
       "  </thead>\n",
       "  <tbody>\n",
       "    <tr>\n",
       "      <th>2022-12-30</th>\n",
       "      <td>33121.61</td>\n",
       "      <td>33152.55</td>\n",
       "      <td>32847.82</td>\n",
       "      <td>33147.25</td>\n",
       "      <td>296466276.0</td>\n",
       "      <td>304.73</td>\n",
       "    </tr>\n",
       "    <tr>\n",
       "      <th>2022-12-29</th>\n",
       "      <td>33021.43</td>\n",
       "      <td>33293.42</td>\n",
       "      <td>33020.35</td>\n",
       "      <td>33220.80</td>\n",
       "      <td>246092457.0</td>\n",
       "      <td>273.07</td>\n",
       "    </tr>\n",
       "    <tr>\n",
       "      <th>2022-12-28</th>\n",
       "      <td>33264.76</td>\n",
       "      <td>33379.55</td>\n",
       "      <td>32869.15</td>\n",
       "      <td>32875.71</td>\n",
       "      <td>254988084.0</td>\n",
       "      <td>510.40</td>\n",
       "    </tr>\n",
       "    <tr>\n",
       "      <th>2022-12-27</th>\n",
       "      <td>33224.23</td>\n",
       "      <td>33387.72</td>\n",
       "      <td>33069.58</td>\n",
       "      <td>33241.56</td>\n",
       "      <td>247056048.0</td>\n",
       "      <td>318.14</td>\n",
       "    </tr>\n",
       "    <tr>\n",
       "      <th>2022-12-23</th>\n",
       "      <td>32961.06</td>\n",
       "      <td>33226.14</td>\n",
       "      <td>32814.02</td>\n",
       "      <td>33203.93</td>\n",
       "      <td>221932148.0</td>\n",
       "      <td>412.12</td>\n",
       "    </tr>\n",
       "  </tbody>\n",
       "</table>\n",
       "</div>"
      ],
      "text/plain": [
       "                Open      High       Low     Close       Volume   range\n",
       "Date                                                                   \n",
       "2022-12-30  33121.61  33152.55  32847.82  33147.25  296466276.0  304.73\n",
       "2022-12-29  33021.43  33293.42  33020.35  33220.80  246092457.0  273.07\n",
       "2022-12-28  33264.76  33379.55  32869.15  32875.71  254988084.0  510.40\n",
       "2022-12-27  33224.23  33387.72  33069.58  33241.56  247056048.0  318.14\n",
       "2022-12-23  32961.06  33226.14  32814.02  33203.93  221932148.0  412.12"
      ]
     },
     "execution_count": 44,
     "metadata": {},
     "output_type": "execute_result"
    }
   ],
   "source": [
    "DJI['range']=range_\n",
    "DJI.head()"
   ]
  },
  {
   "cell_type": "markdown",
   "metadata": {
    "collapsed": false,
    "slideshow": {
     "slide_type": "skip"
    }
   },
   "source": [
    "This is useful for producing calculated columns.\n"
   ]
  },
  {
   "cell_type": "markdown",
   "metadata": {
    "collapsed": false,
    "slideshow": {
     "slide_type": "slide"
    }
   },
   "source": [
    "\n",
    "### Checking for data integrity and fixing Indices\n",
    "\n",
    "We can particular entries in a dataframe or series by either using the position of the row or using the identifying index of the row. Indeed, the role of the index is to allow us to retrieve a given particular row in a menaingful way. It typically is chosen as a unique identifier, although sometimes one can use repeated indices to accelerate some computations.\n",
    "\n",
    "Here are some examples:"
   ]
  },
  {
   "cell_type": "code",
   "execution_count": 45,
   "metadata": {
    "collapsed": false
   },
   "outputs": [
    {
     "name": "stdout",
     "output_type": "stream",
     "text": [
      "The row of the dataframe at position by the number 3: \n",
      "\n",
      " Open      3.322423e+04\n",
      "High      3.338772e+04\n",
      "Low       3.306958e+04\n",
      "Close     3.324156e+04\n",
      "Volume    2.470560e+08\n",
      "range     3.181400e+02\n",
      "Name: 2022-12-27 00:00:00, dtype: float64\n",
      "\n",
      "\n",
      " ----- \n",
      "\n",
      " The row of the range series indexed by the number 3: \n",
      "\n",
      " 318.1399999999994\n"
     ]
    }
   ],
   "source": [
    "# Accessing a given row by position using the method .iloc\n",
    "\n",
    "print('The row of the dataframe at position by the number 3: \\n\\n', DJI.iloc[3])\n",
    "print('\\n\\n ----- \\n\\n The row of the range series indexed by the number 3: \\n\\n', range_.iloc[3])"
   ]
  },
  {
   "cell_type": "code",
   "execution_count": 46,
   "metadata": {},
   "outputs": [
    {
     "name": "stdout",
     "output_type": "stream",
     "text": [
      "The row of the dataframe at position by the number 3: \n",
      "\n",
      " Open      3.322423e+04\n",
      "High      3.338772e+04\n",
      "Low       3.306958e+04\n",
      "Close     3.324156e+04\n",
      "Volume    2.470560e+08\n",
      "range     3.181400e+02\n",
      "Name: 2022-12-27 00:00:00, dtype: float64\n",
      "\n",
      "\n",
      " ----- \n",
      "\n",
      " The row of the range series indexed by the number 3: \n",
      "\n",
      " 318.1399999999994\n"
     ]
    }
   ],
   "source": [
    "# Accessing a given row by index  using the method .loc\n",
    "\n",
    "print('The row of the dataframe at position by the number 3: \\n\\n', DJI.loc['2022-12-27'])\n",
    "print('\\n\\n ----- \\n\\n The row of the range series indexed by the number 3: \\n\\n', range_.loc['2022-12-27'])"
   ]
  },
  {
   "cell_type": "markdown",
   "metadata": {},
   "source": [
    "You can also select only a subset of the columns in DJI"
   ]
  },
  {
   "cell_type": "code",
   "execution_count": 50,
   "metadata": {},
   "outputs": [
    {
     "data": {
      "text/plain": [
       "High    33387.72\n",
       "Name: 2022-12-27 00:00:00, dtype: float64"
      ]
     },
     "execution_count": 50,
     "metadata": {},
     "output_type": "execute_result"
    }
   ],
   "source": [
    "DJI.loc['2022-12-27', ['High']]"
   ]
  },
  {
   "cell_type": "markdown",
   "metadata": {},
   "source": [
    "All indices are stored in the .index property of a DataFrame or series types."
   ]
  },
  {
   "cell_type": "code",
   "execution_count": 47,
   "metadata": {
    "collapsed": false
   },
   "outputs": [
    {
     "data": {
      "text/plain": [
       "DatetimeIndex(['2022-12-30', '2022-12-29', '2022-12-28', '2022-12-27',\n",
       "               '2022-12-23', '2022-12-22', '2022-12-21', '2022-12-20',\n",
       "               '2022-12-19', '2022-12-16',\n",
       "               ...\n",
       "               '2019-01-15', '2019-01-14', '2019-01-11', '2019-01-10',\n",
       "               '2019-01-09', '2019-01-08', '2019-01-07', '2019-01-04',\n",
       "               '2019-01-03', '2019-01-02'],\n",
       "              dtype='datetime64[ns]', name='Date', length=1008, freq=None)"
      ]
     },
     "execution_count": 47,
     "metadata": {},
     "output_type": "execute_result"
    }
   ],
   "source": [
    "DJI.index"
   ]
  },
  {
   "cell_type": "markdown",
   "metadata": {
    "collapsed": false,
    "slideshow": {
     "slide_type": "skip"
    }
   },
   "source": [
    "Note that the indices are 'datetime64' type. this means they are effectively treated as dates. This is convenient as there are many supported modules that act on dates. For instance, it is possible to select entries by giving a time interval or passing strings denoting the desired date. Here are some examples:"
   ]
  },
  {
   "cell_type": "code",
   "execution_count": 54,
   "metadata": {},
   "outputs": [
    {
     "data": {
      "text/html": [
       "<div>\n",
       "<style scoped>\n",
       "    .dataframe tbody tr th:only-of-type {\n",
       "        vertical-align: middle;\n",
       "    }\n",
       "\n",
       "    .dataframe tbody tr th {\n",
       "        vertical-align: top;\n",
       "    }\n",
       "\n",
       "    .dataframe thead th {\n",
       "        text-align: right;\n",
       "    }\n",
       "</style>\n",
       "<table border=\"1\" class=\"dataframe\">\n",
       "  <thead>\n",
       "    <tr style=\"text-align: right;\">\n",
       "      <th></th>\n",
       "      <th>Open</th>\n",
       "      <th>High</th>\n",
       "      <th>Low</th>\n",
       "      <th>Close</th>\n",
       "      <th>Volume</th>\n",
       "      <th>range</th>\n",
       "    </tr>\n",
       "    <tr>\n",
       "      <th>Date</th>\n",
       "      <th></th>\n",
       "      <th></th>\n",
       "      <th></th>\n",
       "      <th></th>\n",
       "      <th></th>\n",
       "      <th></th>\n",
       "    </tr>\n",
       "  </thead>\n",
       "  <tbody>\n",
       "    <tr>\n",
       "      <th>2022-12-30</th>\n",
       "      <td>33121.61</td>\n",
       "      <td>33152.55</td>\n",
       "      <td>32847.82</td>\n",
       "      <td>33147.25</td>\n",
       "      <td>296466276.0</td>\n",
       "      <td>304.73</td>\n",
       "    </tr>\n",
       "    <tr>\n",
       "      <th>2022-12-29</th>\n",
       "      <td>33021.43</td>\n",
       "      <td>33293.42</td>\n",
       "      <td>33020.35</td>\n",
       "      <td>33220.80</td>\n",
       "      <td>246092457.0</td>\n",
       "      <td>273.07</td>\n",
       "    </tr>\n",
       "    <tr>\n",
       "      <th>2022-12-28</th>\n",
       "      <td>33264.76</td>\n",
       "      <td>33379.55</td>\n",
       "      <td>32869.15</td>\n",
       "      <td>32875.71</td>\n",
       "      <td>254988084.0</td>\n",
       "      <td>510.40</td>\n",
       "    </tr>\n",
       "    <tr>\n",
       "      <th>2022-12-27</th>\n",
       "      <td>33224.23</td>\n",
       "      <td>33387.72</td>\n",
       "      <td>33069.58</td>\n",
       "      <td>33241.56</td>\n",
       "      <td>247056048.0</td>\n",
       "      <td>318.14</td>\n",
       "    </tr>\n",
       "    <tr>\n",
       "      <th>2022-12-23</th>\n",
       "      <td>32961.06</td>\n",
       "      <td>33226.14</td>\n",
       "      <td>32814.02</td>\n",
       "      <td>33203.93</td>\n",
       "      <td>221932148.0</td>\n",
       "      <td>412.12</td>\n",
       "    </tr>\n",
       "    <tr>\n",
       "      <th>2022-12-22</th>\n",
       "      <td>33233.35</td>\n",
       "      <td>33233.35</td>\n",
       "      <td>32573.43</td>\n",
       "      <td>33027.49</td>\n",
       "      <td>342509235.0</td>\n",
       "      <td>659.92</td>\n",
       "    </tr>\n",
       "    <tr>\n",
       "      <th>2022-12-21</th>\n",
       "      <td>33028.09</td>\n",
       "      <td>33437.84</td>\n",
       "      <td>33028.09</td>\n",
       "      <td>33376.48</td>\n",
       "      <td>328388241.0</td>\n",
       "      <td>409.75</td>\n",
       "    </tr>\n",
       "    <tr>\n",
       "      <th>2022-12-20</th>\n",
       "      <td>32735.24</td>\n",
       "      <td>32992.23</td>\n",
       "      <td>32649.45</td>\n",
       "      <td>32849.74</td>\n",
       "      <td>309631994.0</td>\n",
       "      <td>342.78</td>\n",
       "    </tr>\n",
       "    <tr>\n",
       "      <th>2022-12-19</th>\n",
       "      <td>32921.45</td>\n",
       "      <td>33038.94</td>\n",
       "      <td>32581.97</td>\n",
       "      <td>32757.54</td>\n",
       "      <td>330825543.0</td>\n",
       "      <td>456.97</td>\n",
       "    </tr>\n",
       "    <tr>\n",
       "      <th>2022-12-16</th>\n",
       "      <td>33166.46</td>\n",
       "      <td>33166.46</td>\n",
       "      <td>32654.59</td>\n",
       "      <td>32920.46</td>\n",
       "      <td>789267239.0</td>\n",
       "      <td>511.87</td>\n",
       "    </tr>\n",
       "    <tr>\n",
       "      <th>2022-12-15</th>\n",
       "      <td>33773.00</td>\n",
       "      <td>33773.00</td>\n",
       "      <td>33016.16</td>\n",
       "      <td>33202.22</td>\n",
       "      <td>395761061.0</td>\n",
       "      <td>756.84</td>\n",
       "    </tr>\n",
       "    <tr>\n",
       "      <th>2022-12-14</th>\n",
       "      <td>34086.07</td>\n",
       "      <td>34395.65</td>\n",
       "      <td>33704.17</td>\n",
       "      <td>33966.35</td>\n",
       "      <td>345706520.0</td>\n",
       "      <td>691.48</td>\n",
       "    </tr>\n",
       "    <tr>\n",
       "      <th>2022-12-13</th>\n",
       "      <td>34268.44</td>\n",
       "      <td>34712.28</td>\n",
       "      <td>33890.88</td>\n",
       "      <td>34108.64</td>\n",
       "      <td>446557733.0</td>\n",
       "      <td>821.40</td>\n",
       "    </tr>\n",
       "    <tr>\n",
       "      <th>2022-12-12</th>\n",
       "      <td>33519.50</td>\n",
       "      <td>34005.04</td>\n",
       "      <td>33519.50</td>\n",
       "      <td>34005.04</td>\n",
       "      <td>321450940.0</td>\n",
       "      <td>485.54</td>\n",
       "    </tr>\n",
       "    <tr>\n",
       "      <th>2022-12-09</th>\n",
       "      <td>33746.71</td>\n",
       "      <td>33844.63</td>\n",
       "      <td>33462.65</td>\n",
       "      <td>33476.46</td>\n",
       "      <td>292806940.0</td>\n",
       "      <td>381.98</td>\n",
       "    </tr>\n",
       "    <tr>\n",
       "      <th>2022-12-08</th>\n",
       "      <td>33695.97</td>\n",
       "      <td>33899.17</td>\n",
       "      <td>33642.46</td>\n",
       "      <td>33781.48</td>\n",
       "      <td>273082104.0</td>\n",
       "      <td>256.71</td>\n",
       "    </tr>\n",
       "    <tr>\n",
       "      <th>2022-12-07</th>\n",
       "      <td>33556.40</td>\n",
       "      <td>33774.27</td>\n",
       "      <td>33503.67</td>\n",
       "      <td>33597.92</td>\n",
       "      <td>295575359.0</td>\n",
       "      <td>270.60</td>\n",
       "    </tr>\n",
       "    <tr>\n",
       "      <th>2022-12-06</th>\n",
       "      <td>33936.87</td>\n",
       "      <td>34006.63</td>\n",
       "      <td>33418.59</td>\n",
       "      <td>33596.34</td>\n",
       "      <td>308065247.0</td>\n",
       "      <td>588.04</td>\n",
       "    </tr>\n",
       "    <tr>\n",
       "      <th>2022-12-05</th>\n",
       "      <td>34335.73</td>\n",
       "      <td>34335.73</td>\n",
       "      <td>33846.81</td>\n",
       "      <td>33947.10</td>\n",
       "      <td>316730600.0</td>\n",
       "      <td>488.92</td>\n",
       "    </tr>\n",
       "    <tr>\n",
       "      <th>2022-12-02</th>\n",
       "      <td>34265.45</td>\n",
       "      <td>34483.21</td>\n",
       "      <td>34039.73</td>\n",
       "      <td>34429.88</td>\n",
       "      <td>291280437.0</td>\n",
       "      <td>443.48</td>\n",
       "    </tr>\n",
       "    <tr>\n",
       "      <th>2022-12-01</th>\n",
       "      <td>34533.59</td>\n",
       "      <td>34595.51</td>\n",
       "      <td>34129.35</td>\n",
       "      <td>34395.01</td>\n",
       "      <td>349874246.0</td>\n",
       "      <td>466.16</td>\n",
       "    </tr>\n",
       "  </tbody>\n",
       "</table>\n",
       "</div>"
      ],
      "text/plain": [
       "                Open      High       Low     Close       Volume   range\n",
       "Date                                                                   \n",
       "2022-12-30  33121.61  33152.55  32847.82  33147.25  296466276.0  304.73\n",
       "2022-12-29  33021.43  33293.42  33020.35  33220.80  246092457.0  273.07\n",
       "2022-12-28  33264.76  33379.55  32869.15  32875.71  254988084.0  510.40\n",
       "2022-12-27  33224.23  33387.72  33069.58  33241.56  247056048.0  318.14\n",
       "2022-12-23  32961.06  33226.14  32814.02  33203.93  221932148.0  412.12\n",
       "2022-12-22  33233.35  33233.35  32573.43  33027.49  342509235.0  659.92\n",
       "2022-12-21  33028.09  33437.84  33028.09  33376.48  328388241.0  409.75\n",
       "2022-12-20  32735.24  32992.23  32649.45  32849.74  309631994.0  342.78\n",
       "2022-12-19  32921.45  33038.94  32581.97  32757.54  330825543.0  456.97\n",
       "2022-12-16  33166.46  33166.46  32654.59  32920.46  789267239.0  511.87\n",
       "2022-12-15  33773.00  33773.00  33016.16  33202.22  395761061.0  756.84\n",
       "2022-12-14  34086.07  34395.65  33704.17  33966.35  345706520.0  691.48\n",
       "2022-12-13  34268.44  34712.28  33890.88  34108.64  446557733.0  821.40\n",
       "2022-12-12  33519.50  34005.04  33519.50  34005.04  321450940.0  485.54\n",
       "2022-12-09  33746.71  33844.63  33462.65  33476.46  292806940.0  381.98\n",
       "2022-12-08  33695.97  33899.17  33642.46  33781.48  273082104.0  256.71\n",
       "2022-12-07  33556.40  33774.27  33503.67  33597.92  295575359.0  270.60\n",
       "2022-12-06  33936.87  34006.63  33418.59  33596.34  308065247.0  588.04\n",
       "2022-12-05  34335.73  34335.73  33846.81  33947.10  316730600.0  488.92\n",
       "2022-12-02  34265.45  34483.21  34039.73  34429.88  291280437.0  443.48\n",
       "2022-12-01  34533.59  34595.51  34129.35  34395.01  349874246.0  466.16"
      ]
     },
     "execution_count": 54,
     "metadata": {},
     "output_type": "execute_result"
    }
   ],
   "source": [
    "DJI.loc['2022-12']"
   ]
  },
  {
   "cell_type": "code",
   "execution_count": 55,
   "metadata": {},
   "outputs": [
    {
     "data": {
      "text/html": [
       "<div>\n",
       "<style scoped>\n",
       "    .dataframe tbody tr th:only-of-type {\n",
       "        vertical-align: middle;\n",
       "    }\n",
       "\n",
       "    .dataframe tbody tr th {\n",
       "        vertical-align: top;\n",
       "    }\n",
       "\n",
       "    .dataframe thead th {\n",
       "        text-align: right;\n",
       "    }\n",
       "</style>\n",
       "<table border=\"1\" class=\"dataframe\">\n",
       "  <thead>\n",
       "    <tr style=\"text-align: right;\">\n",
       "      <th></th>\n",
       "      <th>Open</th>\n",
       "      <th>High</th>\n",
       "      <th>Low</th>\n",
       "      <th>Close</th>\n",
       "      <th>Volume</th>\n",
       "      <th>range</th>\n",
       "    </tr>\n",
       "    <tr>\n",
       "      <th>Date</th>\n",
       "      <th></th>\n",
       "      <th></th>\n",
       "      <th></th>\n",
       "      <th></th>\n",
       "      <th></th>\n",
       "      <th></th>\n",
       "    </tr>\n",
       "  </thead>\n",
       "  <tbody>\n",
       "    <tr>\n",
       "      <th>2022-12-30</th>\n",
       "      <td>33121.61</td>\n",
       "      <td>33152.55</td>\n",
       "      <td>32847.82</td>\n",
       "      <td>33147.25</td>\n",
       "      <td>296466276.0</td>\n",
       "      <td>304.73</td>\n",
       "    </tr>\n",
       "    <tr>\n",
       "      <th>2022-12-29</th>\n",
       "      <td>33021.43</td>\n",
       "      <td>33293.42</td>\n",
       "      <td>33020.35</td>\n",
       "      <td>33220.80</td>\n",
       "      <td>246092457.0</td>\n",
       "      <td>273.07</td>\n",
       "    </tr>\n",
       "    <tr>\n",
       "      <th>2022-12-28</th>\n",
       "      <td>33264.76</td>\n",
       "      <td>33379.55</td>\n",
       "      <td>32869.15</td>\n",
       "      <td>32875.71</td>\n",
       "      <td>254988084.0</td>\n",
       "      <td>510.40</td>\n",
       "    </tr>\n",
       "    <tr>\n",
       "      <th>2022-12-27</th>\n",
       "      <td>33224.23</td>\n",
       "      <td>33387.72</td>\n",
       "      <td>33069.58</td>\n",
       "      <td>33241.56</td>\n",
       "      <td>247056048.0</td>\n",
       "      <td>318.14</td>\n",
       "    </tr>\n",
       "    <tr>\n",
       "      <th>2022-12-23</th>\n",
       "      <td>32961.06</td>\n",
       "      <td>33226.14</td>\n",
       "      <td>32814.02</td>\n",
       "      <td>33203.93</td>\n",
       "      <td>221932148.0</td>\n",
       "      <td>412.12</td>\n",
       "    </tr>\n",
       "    <tr>\n",
       "      <th>2022-12-22</th>\n",
       "      <td>33233.35</td>\n",
       "      <td>33233.35</td>\n",
       "      <td>32573.43</td>\n",
       "      <td>33027.49</td>\n",
       "      <td>342509235.0</td>\n",
       "      <td>659.92</td>\n",
       "    </tr>\n",
       "    <tr>\n",
       "      <th>2022-12-21</th>\n",
       "      <td>33028.09</td>\n",
       "      <td>33437.84</td>\n",
       "      <td>33028.09</td>\n",
       "      <td>33376.48</td>\n",
       "      <td>328388241.0</td>\n",
       "      <td>409.75</td>\n",
       "    </tr>\n",
       "    <tr>\n",
       "      <th>2022-12-20</th>\n",
       "      <td>32735.24</td>\n",
       "      <td>32992.23</td>\n",
       "      <td>32649.45</td>\n",
       "      <td>32849.74</td>\n",
       "      <td>309631994.0</td>\n",
       "      <td>342.78</td>\n",
       "    </tr>\n",
       "    <tr>\n",
       "      <th>2022-12-19</th>\n",
       "      <td>32921.45</td>\n",
       "      <td>33038.94</td>\n",
       "      <td>32581.97</td>\n",
       "      <td>32757.54</td>\n",
       "      <td>330825543.0</td>\n",
       "      <td>456.97</td>\n",
       "    </tr>\n",
       "    <tr>\n",
       "      <th>2022-12-16</th>\n",
       "      <td>33166.46</td>\n",
       "      <td>33166.46</td>\n",
       "      <td>32654.59</td>\n",
       "      <td>32920.46</td>\n",
       "      <td>789267239.0</td>\n",
       "      <td>511.87</td>\n",
       "    </tr>\n",
       "    <tr>\n",
       "      <th>2022-12-15</th>\n",
       "      <td>33773.00</td>\n",
       "      <td>33773.00</td>\n",
       "      <td>33016.16</td>\n",
       "      <td>33202.22</td>\n",
       "      <td>395761061.0</td>\n",
       "      <td>756.84</td>\n",
       "    </tr>\n",
       "    <tr>\n",
       "      <th>2022-12-14</th>\n",
       "      <td>34086.07</td>\n",
       "      <td>34395.65</td>\n",
       "      <td>33704.17</td>\n",
       "      <td>33966.35</td>\n",
       "      <td>345706520.0</td>\n",
       "      <td>691.48</td>\n",
       "    </tr>\n",
       "    <tr>\n",
       "      <th>2022-12-13</th>\n",
       "      <td>34268.44</td>\n",
       "      <td>34712.28</td>\n",
       "      <td>33890.88</td>\n",
       "      <td>34108.64</td>\n",
       "      <td>446557733.0</td>\n",
       "      <td>821.40</td>\n",
       "    </tr>\n",
       "    <tr>\n",
       "      <th>2022-12-12</th>\n",
       "      <td>33519.50</td>\n",
       "      <td>34005.04</td>\n",
       "      <td>33519.50</td>\n",
       "      <td>34005.04</td>\n",
       "      <td>321450940.0</td>\n",
       "      <td>485.54</td>\n",
       "    </tr>\n",
       "    <tr>\n",
       "      <th>2022-12-09</th>\n",
       "      <td>33746.71</td>\n",
       "      <td>33844.63</td>\n",
       "      <td>33462.65</td>\n",
       "      <td>33476.46</td>\n",
       "      <td>292806940.0</td>\n",
       "      <td>381.98</td>\n",
       "    </tr>\n",
       "    <tr>\n",
       "      <th>2022-12-08</th>\n",
       "      <td>33695.97</td>\n",
       "      <td>33899.17</td>\n",
       "      <td>33642.46</td>\n",
       "      <td>33781.48</td>\n",
       "      <td>273082104.0</td>\n",
       "      <td>256.71</td>\n",
       "    </tr>\n",
       "    <tr>\n",
       "      <th>2022-12-07</th>\n",
       "      <td>33556.40</td>\n",
       "      <td>33774.27</td>\n",
       "      <td>33503.67</td>\n",
       "      <td>33597.92</td>\n",
       "      <td>295575359.0</td>\n",
       "      <td>270.60</td>\n",
       "    </tr>\n",
       "    <tr>\n",
       "      <th>2022-12-06</th>\n",
       "      <td>33936.87</td>\n",
       "      <td>34006.63</td>\n",
       "      <td>33418.59</td>\n",
       "      <td>33596.34</td>\n",
       "      <td>308065247.0</td>\n",
       "      <td>588.04</td>\n",
       "    </tr>\n",
       "    <tr>\n",
       "      <th>2022-12-05</th>\n",
       "      <td>34335.73</td>\n",
       "      <td>34335.73</td>\n",
       "      <td>33846.81</td>\n",
       "      <td>33947.10</td>\n",
       "      <td>316730600.0</td>\n",
       "      <td>488.92</td>\n",
       "    </tr>\n",
       "    <tr>\n",
       "      <th>2022-12-02</th>\n",
       "      <td>34265.45</td>\n",
       "      <td>34483.21</td>\n",
       "      <td>34039.73</td>\n",
       "      <td>34429.88</td>\n",
       "      <td>291280437.0</td>\n",
       "      <td>443.48</td>\n",
       "    </tr>\n",
       "    <tr>\n",
       "      <th>2022-12-01</th>\n",
       "      <td>34533.59</td>\n",
       "      <td>34595.51</td>\n",
       "      <td>34129.35</td>\n",
       "      <td>34395.01</td>\n",
       "      <td>349874246.0</td>\n",
       "      <td>466.16</td>\n",
       "    </tr>\n",
       "  </tbody>\n",
       "</table>\n",
       "</div>"
      ],
      "text/plain": [
       "                Open      High       Low     Close       Volume   range\n",
       "Date                                                                   \n",
       "2022-12-30  33121.61  33152.55  32847.82  33147.25  296466276.0  304.73\n",
       "2022-12-29  33021.43  33293.42  33020.35  33220.80  246092457.0  273.07\n",
       "2022-12-28  33264.76  33379.55  32869.15  32875.71  254988084.0  510.40\n",
       "2022-12-27  33224.23  33387.72  33069.58  33241.56  247056048.0  318.14\n",
       "2022-12-23  32961.06  33226.14  32814.02  33203.93  221932148.0  412.12\n",
       "2022-12-22  33233.35  33233.35  32573.43  33027.49  342509235.0  659.92\n",
       "2022-12-21  33028.09  33437.84  33028.09  33376.48  328388241.0  409.75\n",
       "2022-12-20  32735.24  32992.23  32649.45  32849.74  309631994.0  342.78\n",
       "2022-12-19  32921.45  33038.94  32581.97  32757.54  330825543.0  456.97\n",
       "2022-12-16  33166.46  33166.46  32654.59  32920.46  789267239.0  511.87\n",
       "2022-12-15  33773.00  33773.00  33016.16  33202.22  395761061.0  756.84\n",
       "2022-12-14  34086.07  34395.65  33704.17  33966.35  345706520.0  691.48\n",
       "2022-12-13  34268.44  34712.28  33890.88  34108.64  446557733.0  821.40\n",
       "2022-12-12  33519.50  34005.04  33519.50  34005.04  321450940.0  485.54\n",
       "2022-12-09  33746.71  33844.63  33462.65  33476.46  292806940.0  381.98\n",
       "2022-12-08  33695.97  33899.17  33642.46  33781.48  273082104.0  256.71\n",
       "2022-12-07  33556.40  33774.27  33503.67  33597.92  295575359.0  270.60\n",
       "2022-12-06  33936.87  34006.63  33418.59  33596.34  308065247.0  588.04\n",
       "2022-12-05  34335.73  34335.73  33846.81  33947.10  316730600.0  488.92\n",
       "2022-12-02  34265.45  34483.21  34039.73  34429.88  291280437.0  443.48\n",
       "2022-12-01  34533.59  34595.51  34129.35  34395.01  349874246.0  466.16"
      ]
     },
     "execution_count": 55,
     "metadata": {},
     "output_type": "execute_result"
    }
   ],
   "source": [
    "DJI.loc['2022-12-01':'2023-01-01']"
   ]
  },
  {
   "cell_type": "markdown",
   "metadata": {
    "collapsed": false,
    "slideshow": {
     "slide_type": "slide"
    }
   },
   "source": [
    "Let us now check that there are no missing data. We do not expect any issues but we should always check for this."
   ]
  },
  {
   "cell_type": "code",
   "execution_count": 48,
   "metadata": {
    "collapsed": false
   },
   "outputs": [
    {
     "data": {
      "text/plain": [
       "Open      False\n",
       "High      False\n",
       "Low       False\n",
       "Close     False\n",
       "Volume    False\n",
       "range     False\n",
       "dtype: bool"
      ]
     },
     "execution_count": 48,
     "metadata": {},
     "output_type": "execute_result"
    }
   ],
   "source": [
    "DJI.isnull().any() # This looks for missing values in any field of the database (TRUE if misisng FALSE if not). Then checks if tehre is at least one  TRUE."
   ]
  },
  {
   "cell_type": "markdown",
   "metadata": {
    "collapsed": false
   },
   "source": [
    "As shown above, none of the fields has missing values. Let us now check whether the dates in the database are unique.\n"
   ]
  },
  {
   "cell_type": "code",
   "execution_count": 56,
   "metadata": {},
   "outputs": [
    {
     "data": {
      "text/plain": [
       "True"
      ]
     },
     "execution_count": 56,
     "metadata": {},
     "output_type": "execute_result"
    }
   ],
   "source": [
    "DJI.index.is_unique"
   ]
  },
  {
   "cell_type": "markdown",
   "metadata": {},
   "source": [
    "As we can see, each date appears ony one in the index."
   ]
  },
  {
   "cell_type": "markdown",
   "metadata": {
    "collapsed": false,
    "nbpresent": {
     "id": "4d00946d-c376-49e1-a5c1-4b41f319b1e2"
    },
    "slideshow": {
     "slide_type": "slide"
    }
   },
   "source": [
    "### Sampling a dataframe\n",
    "\n",
    "One of the advantages of having a date index is that we can resample the data. Indeed, let's say that we are interested in weekly returns, but we only have daily returns as above. \n",
    "\n",
    "We can pick then resample the data using the power of pandas. Let us suppose we take now the data at of each Friday as a representative of the week. We would simply write"
   ]
  },
  {
   "cell_type": "code",
   "execution_count": 57,
   "metadata": {
    "collapsed": false
   },
   "outputs": [],
   "source": [
    "DJI_week = DJI.resample('W-FRI').last() # Sample the database on a weekly basis finishing on a Friday, and taking the last data of each interval"
   ]
  },
  {
   "cell_type": "code",
   "execution_count": 58,
   "metadata": {
    "collapsed": false,
    "slideshow": {
     "slide_type": "subslide"
    }
   },
   "outputs": [
    {
     "data": {
      "text/html": [
       "<div>\n",
       "<style scoped>\n",
       "    .dataframe tbody tr th:only-of-type {\n",
       "        vertical-align: middle;\n",
       "    }\n",
       "\n",
       "    .dataframe tbody tr th {\n",
       "        vertical-align: top;\n",
       "    }\n",
       "\n",
       "    .dataframe thead th {\n",
       "        text-align: right;\n",
       "    }\n",
       "</style>\n",
       "<table border=\"1\" class=\"dataframe\">\n",
       "  <thead>\n",
       "    <tr style=\"text-align: right;\">\n",
       "      <th></th>\n",
       "      <th>Open</th>\n",
       "      <th>High</th>\n",
       "      <th>Low</th>\n",
       "      <th>Close</th>\n",
       "      <th>Volume</th>\n",
       "      <th>range</th>\n",
       "    </tr>\n",
       "    <tr>\n",
       "      <th>Date</th>\n",
       "      <th></th>\n",
       "      <th></th>\n",
       "      <th></th>\n",
       "      <th></th>\n",
       "      <th></th>\n",
       "      <th></th>\n",
       "    </tr>\n",
       "  </thead>\n",
       "  <tbody>\n",
       "    <tr>\n",
       "      <th>2019-01-04</th>\n",
       "      <td>22894.92</td>\n",
       "      <td>23518.64</td>\n",
       "      <td>22894.92</td>\n",
       "      <td>23433.16</td>\n",
       "      <td>395923318.0</td>\n",
       "      <td>623.72</td>\n",
       "    </tr>\n",
       "    <tr>\n",
       "      <th>2019-01-11</th>\n",
       "      <td>23940.01</td>\n",
       "      <td>23996.32</td>\n",
       "      <td>23798.16</td>\n",
       "      <td>23995.95</td>\n",
       "      <td>262719487.0</td>\n",
       "      <td>198.16</td>\n",
       "    </tr>\n",
       "    <tr>\n",
       "      <th>2019-01-18</th>\n",
       "      <td>24534.19</td>\n",
       "      <td>24750.22</td>\n",
       "      <td>24459.03</td>\n",
       "      <td>24706.35</td>\n",
       "      <td>372887671.0</td>\n",
       "      <td>291.19</td>\n",
       "    </tr>\n",
       "    <tr>\n",
       "      <th>2019-01-25</th>\n",
       "      <td>24687.21</td>\n",
       "      <td>24860.15</td>\n",
       "      <td>24676.75</td>\n",
       "      <td>24737.20</td>\n",
       "      <td>376813788.0</td>\n",
       "      <td>183.40</td>\n",
       "    </tr>\n",
       "    <tr>\n",
       "      <th>2019-02-01</th>\n",
       "      <td>25025.31</td>\n",
       "      <td>25193.15</td>\n",
       "      <td>24982.49</td>\n",
       "      <td>25063.89</td>\n",
       "      <td>372183351.0</td>\n",
       "      <td>210.66</td>\n",
       "    </tr>\n",
       "  </tbody>\n",
       "</table>\n",
       "</div>"
      ],
      "text/plain": [
       "                Open      High       Low     Close       Volume   range\n",
       "Date                                                                   \n",
       "2019-01-04  22894.92  23518.64  22894.92  23433.16  395923318.0  623.72\n",
       "2019-01-11  23940.01  23996.32  23798.16  23995.95  262719487.0  198.16\n",
       "2019-01-18  24534.19  24750.22  24459.03  24706.35  372887671.0  291.19\n",
       "2019-01-25  24687.21  24860.15  24676.75  24737.20  376813788.0  183.40\n",
       "2019-02-01  25025.31  25193.15  24982.49  25063.89  372183351.0  210.66"
      ]
     },
     "execution_count": 58,
     "metadata": {},
     "output_type": "execute_result"
    }
   ],
   "source": [
    "DJI_week.head()"
   ]
  },
  {
   "cell_type": "markdown",
   "metadata": {
    "collapsed": false,
    "slideshow": {
     "slide_type": "slide"
    }
   },
   "source": [
    "This takes the data in bits of one week, ending on a Friday, and taking the last value as a representative (i.e. the value on a Friday). To verify this, let us compare with the value on the original dataframe of the first Friday"
   ]
  },
  {
   "cell_type": "code",
   "execution_count": 61,
   "metadata": {
    "collapsed": false
   },
   "outputs": [
    {
     "data": {
      "text/plain": [
       "Open      2.289492e+04\n",
       "High      2.351864e+04\n",
       "Low       2.289492e+04\n",
       "Close     2.343316e+04\n",
       "Volume    3.959233e+08\n",
       "range     6.237200e+02\n",
       "Name: 2019-01-04 00:00:00, dtype: float64"
      ]
     },
     "execution_count": 61,
     "metadata": {},
     "output_type": "execute_result"
    }
   ],
   "source": [
    "DJI.loc['2019-01-04']"
   ]
  },
  {
   "cell_type": "markdown",
   "metadata": {
    "collapsed": false,
    "slideshow": {
     "slide_type": "slide"
    }
   },
   "source": [
    "Of course, some of the data is no longer an accurate summary. We would like to have the opening, high, low  and volume of the week (and not the opening of the Friday). We can call different versions of the resample function to adjust for this. Look at the following code"
   ]
  },
  {
   "cell_type": "code",
   "execution_count": 64,
   "metadata": {
    "collapsed": false
   },
   "outputs": [],
   "source": [
    "DJI_week['Open'] =  DJI['Open'].resample('W-FRI').first()\n",
    "DJI_week['Close'] =  DJI['Close'].resample('W-FRI').last()\n",
    "DJI_week['High'] =  DJI['High'].resample('W-FRI').max()\n",
    "DJI_week['Low'] =  DJI['Low'].resample('W-FRI').min()\n",
    "DJI_week['Volume'] =  DJI['Volume'].resample('W-FRI').sum()\n"
   ]
  },
  {
   "cell_type": "code",
   "execution_count": 65,
   "metadata": {
    "collapsed": false,
    "slideshow": {
     "slide_type": "subslide"
    }
   },
   "outputs": [
    {
     "data": {
      "text/html": [
       "<div>\n",
       "<style scoped>\n",
       "    .dataframe tbody tr th:only-of-type {\n",
       "        vertical-align: middle;\n",
       "    }\n",
       "\n",
       "    .dataframe tbody tr th {\n",
       "        vertical-align: top;\n",
       "    }\n",
       "\n",
       "    .dataframe thead th {\n",
       "        text-align: right;\n",
       "    }\n",
       "</style>\n",
       "<table border=\"1\" class=\"dataframe\">\n",
       "  <thead>\n",
       "    <tr style=\"text-align: right;\">\n",
       "      <th></th>\n",
       "      <th>Open</th>\n",
       "      <th>High</th>\n",
       "      <th>Low</th>\n",
       "      <th>Close</th>\n",
       "      <th>Volume</th>\n",
       "      <th>range</th>\n",
       "    </tr>\n",
       "    <tr>\n",
       "      <th>Date</th>\n",
       "      <th></th>\n",
       "      <th></th>\n",
       "      <th></th>\n",
       "      <th></th>\n",
       "      <th></th>\n",
       "      <th></th>\n",
       "    </tr>\n",
       "  </thead>\n",
       "  <tbody>\n",
       "    <tr>\n",
       "      <th>2019-01-04</th>\n",
       "      <td>23058.61</td>\n",
       "      <td>23518.64</td>\n",
       "      <td>22638.41</td>\n",
       "      <td>23433.16</td>\n",
       "      <td>1.141742e+09</td>\n",
       "      <td>623.72</td>\n",
       "    </tr>\n",
       "    <tr>\n",
       "      <th>2019-01-11</th>\n",
       "      <td>23474.26</td>\n",
       "      <td>24014.78</td>\n",
       "      <td>23301.59</td>\n",
       "      <td>23995.95</td>\n",
       "      <td>1.576862e+09</td>\n",
       "      <td>198.16</td>\n",
       "    </tr>\n",
       "    <tr>\n",
       "      <th>2019-01-18</th>\n",
       "      <td>23880.53</td>\n",
       "      <td>24750.22</td>\n",
       "      <td>23765.24</td>\n",
       "      <td>24706.35</td>\n",
       "      <td>1.533449e+09</td>\n",
       "      <td>291.19</td>\n",
       "    </tr>\n",
       "    <tr>\n",
       "      <th>2019-01-25</th>\n",
       "      <td>24607.76</td>\n",
       "      <td>24860.15</td>\n",
       "      <td>24244.31</td>\n",
       "      <td>24737.20</td>\n",
       "      <td>1.353886e+09</td>\n",
       "      <td>183.40</td>\n",
       "    </tr>\n",
       "    <tr>\n",
       "      <th>2019-02-01</th>\n",
       "      <td>24596.98</td>\n",
       "      <td>25193.15</td>\n",
       "      <td>24323.94</td>\n",
       "      <td>25063.89</td>\n",
       "      <td>1.954762e+09</td>\n",
       "      <td>210.66</td>\n",
       "    </tr>\n",
       "  </tbody>\n",
       "</table>\n",
       "</div>"
      ],
      "text/plain": [
       "                Open      High       Low     Close        Volume   range\n",
       "Date                                                                    \n",
       "2019-01-04  23058.61  23518.64  22638.41  23433.16  1.141742e+09  623.72\n",
       "2019-01-11  23474.26  24014.78  23301.59  23995.95  1.576862e+09  198.16\n",
       "2019-01-18  23880.53  24750.22  23765.24  24706.35  1.533449e+09  291.19\n",
       "2019-01-25  24607.76  24860.15  24244.31  24737.20  1.353886e+09  183.40\n",
       "2019-02-01  24596.98  25193.15  24323.94  25063.89  1.954762e+09  210.66"
      ]
     },
     "execution_count": 65,
     "metadata": {},
     "output_type": "execute_result"
    }
   ],
   "source": [
    "DJI_week.head()"
   ]
  },
  {
   "cell_type": "markdown",
   "metadata": {
    "collapsed": false,
    "slideshow": {
     "slide_type": "slide"
    }
   },
   "source": [
    "It is trongly recommended to read the help on the resample function on pandas, as it has many different applications and particularities.\n",
    "\n",
    "**Warning:** Resampling data should be used carefully. The above example is mainly illustrative, and we need to be careful when working with non-adjusted resampled data."
   ]
  },
  {
   "cell_type": "markdown",
   "metadata": {
    "collapsed": false,
    "slideshow": {
     "slide_type": "skip"
    }
   },
   "source": [
    "## Visualising data"
   ]
  },
  {
   "cell_type": "markdown",
   "metadata": {
    "collapsed": false,
    "slideshow": {
     "slide_type": "slide"
    }
   },
   "source": [
    "### Plotting a price series\n",
    "\n",
    "Let's next plot the daily closing prices, and then the weekly returns."
   ]
  },
  {
   "cell_type": "code",
   "execution_count": 66,
   "metadata": {
    "collapsed": false,
    "nbpresent": {
     "id": "2c963c79-69dc-48f6-b75c-2fa3c20d41b1"
    }
   },
   "outputs": [
    {
     "data": {
      "text/plain": [
       "Text(0, 0.5, 'Close price DJI (USD)')"
      ]
     },
     "execution_count": 66,
     "metadata": {},
     "output_type": "execute_result"
    },
    {
     "data": {
      "image/png": "[encoded data removed]",
      "text/plain": [
       "<Figure size 640x480 with 1 Axes>"
      ]
     },
     "metadata": {},
     "output_type": "display_data"
    }
   ],
   "source": [
    "DJI['Close'].plot(title='Close price')\n",
    "plt.ylabel('Close price DJI (USD)')"
   ]
  },
  {
   "cell_type": "markdown",
   "metadata": {
    "collapsed": false
   },
   "source": [
    "We see an important drop in the closing value of the DJI around March 2020...  the month when the COVID-19 outbreak was declared a pandemic by World Health Organization"
   ]
  },
  {
   "cell_type": "markdown",
   "metadata": {
    "collapsed": false,
    "slideshow": {
     "slide_type": "slide"
    }
   },
   "source": [
    "### A histogram of log-returns\n",
    "\n",
    "Let's compute the weekly (gross) log returns. We can plot a series as a function of time as before. However, this time we might instead look at the histogram of past log-returns. We have\n",
    "\n",
    "$$  \\log\\left( R_{t+1} \\right) = \\log\\left( \\frac{S_{t+1}}{S_t}\\right) = \\log( S_{t+1})  - \\log({S_t})    $$\n",
    "\n",
    "\n",
    "A frequent assumption is that the sequence of log-returns is stationary. Note that this is exactly the type of assumption behind the geometric-Brownian motion model under which\n",
    "\n",
    "$$ S_{t+1} = S_t \\exp( \\sigma  Z_{t+1}) $$\n",
    "\n",
    "with $Z_{t+1} \\sim \\mathcal N(0,1) $ and $\\sigma$ a constant number.\n",
    "\n",
    "In the following, we calculate the log-returns and check if the process seems to be stationary. If so, we look at its associated histogram. \n"
   ]
  },
  {
   "cell_type": "markdown",
   "metadata": {
    "collapsed": false,
    "nbpresent": {
     "id": "2e7660fb-5a2b-4e28-b13c-509f54aeb6ba"
    },
    "slideshow": {
     "slide_type": "slide"
    }
   },
   "source": [
    "\n",
    "\n",
    "We compute first the log prices and then find the differences.\n"
   ]
  },
  {
   "cell_type": "code",
   "execution_count": 73,
   "metadata": {
    "collapsed": false
   },
   "outputs": [
    {
     "data": {
      "text/plain": [
       "Date\n",
       "2022-12-30         NaN\n",
       "2022-12-29    0.002216\n",
       "2022-12-28   -0.010442\n",
       "2022-12-27    0.011067\n",
       "2022-12-23   -0.001133\n",
       "Name: Close, dtype: float64"
      ]
     },
     "execution_count": 73,
     "metadata": {},
     "output_type": "execute_result"
    }
   ],
   "source": [
    "logp = np.log(DJI['Close']) # Note that we can apply directly numpy functions to series or dataframe\n",
    "logr = logp.diff()  # This calculates the differences between entries\n",
    "logr.head()"
   ]
  },
  {
   "cell_type": "markdown",
   "metadata": {
    "collapsed": false
   },
   "source": [
    "It worked well... except for the first entry (clearly we cannot calculate the return 0). We just drop this line as follows"
   ]
  },
  {
   "cell_type": "code",
   "execution_count": 74,
   "metadata": {
    "collapsed": false
   },
   "outputs": [
    {
     "data": {
      "text/plain": [
       "Date\n",
       "2022-12-29    0.002216\n",
       "2022-12-28   -0.010442\n",
       "2022-12-27    0.011067\n",
       "2022-12-23   -0.001133\n",
       "2022-12-22   -0.005328\n",
       "Name: Close, dtype: float64"
      ]
     },
     "execution_count": 74,
     "metadata": {},
     "output_type": "execute_result"
    }
   ],
   "source": [
    "logr.drop(logr.index[0], inplace=True)   # Find what is the first index and drop the row that has it. Note this is another instance where inplace is needed\n",
    "logr.head()"
   ]
  },
  {
   "cell_type": "markdown",
   "metadata": {
    "collapsed": false,
    "slideshow": {
     "slide_type": "slide"
    }
   },
   "source": [
    "Let us look at a time plot of the log returns"
   ]
  },
  {
   "cell_type": "code",
   "execution_count": 75,
   "metadata": {
    "collapsed": false
   },
   "outputs": [
    {
     "data": {
      "text/plain": [
       "Text(0, 0.5, 'One-week log-returns')"
      ]
     },
     "execution_count": 75,
     "metadata": {},
     "output_type": "execute_result"
    },
    {
     "data": {
      "image/png": "[encoded data removed]",
      "text/plain": [
       "<Figure size 640x480 with 1 Axes>"
      ]
     },
     "metadata": {},
     "output_type": "display_data"
    }
   ],
   "source": [
    "logr.plot(style='.')\n",
    "plt.title('Weekly log returns - DJI')\n",
    "plt.ylabel('One-week log-returns')"
   ]
  },
  {
   "cell_type": "markdown",
   "metadata": {
    "collapsed": false
   },
   "source": [
    "The plot does not seem to show any trend in mean: points seems to oscillate around a stable value. There seems to be an important but temporary change in volatility around March 2020. The year 2022 also seems slightly more volatile.\n"
   ]
  },
  {
   "cell_type": "markdown",
   "metadata": {
    "collapsed": false,
    "slideshow": {
     "slide_type": "slide"
    }
   },
   "source": [
    "\n",
    "We can use again the sampling functions with different summarising measures to check for the potential stability of means."
   ]
  },
  {
   "cell_type": "code",
   "execution_count": 76,
   "metadata": {
    "collapsed": false
   },
   "outputs": [
    {
     "data": {
      "text/plain": [
       "<Axes: title={'center': 'Moving standard deviation of log-returns. Window: 3 months. '}, xlabel='Date'>"
      ]
     },
     "execution_count": 76,
     "metadata": {},
     "output_type": "execute_result"
    },
    {
     "data": {
      "image/png": "[encoded data removed]",
      "text/plain": [
       "<Figure size 640x480 with 1 Axes>"
      ]
     },
     "metadata": {},
     "output_type": "display_data"
    }
   ],
   "source": [
    "sd_diff = logr.resample('3M').std()\n",
    "sd_diff.plot(title='Moving standard deviation of log-returns. Window: 3 months. ', style='.')\n",
    "\n",
    "# Note that we do several commands here: first we resample by 3 months, then we sumarise with standard deviation and  then we plot"
   ]
  },
  {
   "cell_type": "markdown",
   "metadata": {
    "collapsed": false
   },
   "source": [
    "There is indeed some oscillation in the averaged 3 month data (note we are averaging about 60 trading days). An interesting almost sinusoidal pattern appears here."
   ]
  },
  {
   "cell_type": "markdown",
   "metadata": {
    "collapsed": false,
    "slideshow": {
     "slide_type": "slide"
    }
   },
   "source": [
    "\n",
    "A statistical test could be performed to check if there is a first order dependence between two successive values.\n",
    "\n",
    "\n",
    "**Augmented Dickey-Fuller test:** This statistical test is based on the fitting an autoregressive model to the data as follows:\n",
    "\n",
    "$$ \\Delta y_{t+1} = \\alpha + \\beta t + \\gamma y_{t} + \\sum_{i=0}^p \\delta_p  \\Delta y_{t-p} +\\epsilon_t $$\n",
    "where $\\Delta y_s =  y_s-y_{s-1}$\n",
    "\n",
    "If the process is stationary (up to at some trend), we expect a tendency to return to the mean: we then expect $\\gamma<0$ in this case. The ADF test has as null hypothesis that $\\gamma =0$ and checks against $\\gamma\\leq 0$."
   ]
  },
  {
   "cell_type": "code",
   "execution_count": 77,
   "metadata": {
    "collapsed": false
   },
   "outputs": [],
   "source": [
    "from statsmodels.tsa.stattools import adfuller"
   ]
  },
  {
   "cell_type": "code",
   "execution_count": 78,
   "metadata": {
    "collapsed": false
   },
   "outputs": [
    {
     "data": {
      "text/plain": [
       "7.123654616504477e-16"
      ]
     },
     "execution_count": 78,
     "metadata": {},
     "output_type": "execute_result"
    }
   ],
   "source": [
    "adfuller(logr)[1] # We reject the presence of a unit root if this value is very small (say less than 0.01)"
   ]
  },
  {
   "cell_type": "markdown",
   "metadata": {
    "collapsed": false
   },
   "source": [
    "Since we reject the null assumption, we get $\\gamma\\leq 0$. All in all, we do not have enough evidence to reject stationarity."
   ]
  },
  {
   "cell_type": "markdown",
   "metadata": {
    "collapsed": false,
    "slideshow": {
     "slide_type": "slide"
    }
   },
   "source": [
    "## Can we fit a known distribution?\n",
    "\n",
    "\n",
    "With the stationarity assumption, we can now focus on understanding if the data fits a know distribution. Let us look at the histogram of log-returns."
   ]
  },
  {
   "cell_type": "code",
   "execution_count": 79,
   "metadata": {
    "collapsed": false
   },
   "outputs": [
    {
     "data": {
      "text/plain": [
       "Text(0.5, 1.0, 'Histogram of weekly log-returns')"
      ]
     },
     "execution_count": 79,
     "metadata": {},
     "output_type": "execute_result"
    },
    {
     "data": {
      "image/png": "[encoded data removed]",
      "text/plain": [
       "<Figure size 640x480 with 1 Axes>"
      ]
     },
     "metadata": {},
     "output_type": "display_data"
    }
   ],
   "source": [
    "logr.hist(density=True, bins=35)\n",
    "plt.title('Histogram of weekly log-returns')"
   ]
  },
  {
   "cell_type": "markdown",
   "metadata": {
    "collapsed": false,
    "slideshow": {
     "slide_type": "subslide"
    }
   },
   "source": [
    "It does not look very 'Gaussian'. For good measure, we use also a [qqplot](https://en.wikipedia.org/wiki/Q%E2%80%93Q_plot). It can be found on the stats submodule of Scipy"
   ]
  },
  {
   "cell_type": "code",
   "execution_count": 80,
   "metadata": {
    "collapsed": false
   },
   "outputs": [
    {
     "data": {
      "image/png": "[encoded data removed]",
      "text/plain": [
       "<Figure size 640x480 with 1 Axes>"
      ]
     },
     "metadata": {},
     "output_type": "display_data"
    }
   ],
   "source": [
    "from scipy.stats import probplot\n",
    "probplot(logr, plot=plt); # The semicolon (;) avoids any output. plt=plot asks this function to plot the result using the matplotlib rendering engine"
   ]
  },
  {
   "cell_type": "markdown",
   "metadata": {
    "collapsed": false,
    "slideshow": {
     "slide_type": "skip"
    }
   },
   "source": [
    "The *probplot* function is a qqplot of the empirical weekly data against the best fit for a Gaussian distribution (using maximum likelihood). The result shows that the daily returns do not look close to a Gaussian. What about the weekly returns?\n"
   ]
  },
  {
   "cell_type": "code",
   "execution_count": 82,
   "metadata": {},
   "outputs": [
    {
     "data": {
      "image/png": "[encoded data removed]",
      "text/plain": [
       "<Figure size 640x480 with 1 Axes>"
      ]
     },
     "metadata": {},
     "output_type": "display_data"
    }
   ],
   "source": [
    "logrw = np.log(DJI_week['Close']).diff() \n",
    "logrw.drop(logrw.index[0], inplace=True) \n",
    "probplot(logrw, plot=plt);\n"
   ]
  },
  {
   "cell_type": "markdown",
   "metadata": {
    "collapsed": false,
    "slideshow": {
     "slide_type": "slide"
    }
   },
   "source": [
    "Here, the plot is much closer to a Gaussian, although the Gaussian distribution largely sub-estimates negative returns (i.e. losses) and very high values that are larger than 2 standard deviations. \n",
    "\n",
    "Indeed, as in the course, the quantiles of the approximation can be found by taking $E[X] + {\\rm sd(X)}\\Phi^{-1}(X)$. We get"
   ]
  },
  {
   "cell_type": "code",
   "execution_count": 84,
   "metadata": {
    "collapsed": false
   },
   "outputs": [
    {
     "name": "stdout",
     "output_type": "stream",
     "text": [
      "The lowest 1% quantile of returns:  -0.10637933890172278 . The lowest 1% quantile using a Gaussian fit  -0.06963240556373583\n"
     ]
    }
   ],
   "source": [
    "mean_logrw = logrw.mean()\n",
    "sd_logrw = logrw.std()\n",
    "from scipy.stats import norm\n",
    "\n",
    "print('The lowest 1% quantile of returns: ', logrw.quantile(0.01), '. The lowest 1% quantile using a Gaussian fit ', mean_logrw + sd_logrw*norm.ppf(0.01))\n"
   ]
  },
  {
   "cell_type": "markdown",
   "metadata": {
    "collapsed": false
   },
   "source": [
    "Clearly we subestimate possible losses. This is inconvenient for VaR computations."
   ]
  },
  {
   "cell_type": "markdown",
   "metadata": {
    "collapsed": false,
    "slideshow": {
     "slide_type": "skip"
    }
   },
   "source": [
    "## Exercises"
   ]
  },
  {
   "cell_type": "markdown",
   "metadata": {
    "collapsed": false,
    "slideshow": {
     "slide_type": "skip"
    }
   },
   "source": [
    "1. Using the Dow Jones database in this notebook, calculate a time series with the mean and standard deviation of daily returns within a month."
   ]
  },
  {
   "cell_type": "code",
   "execution_count": null,
   "metadata": {
    "collapsed": false,
    "slideshow": {
     "slide_type": "skip"
    }
   },
   "outputs": [],
   "source": []
  },
  {
   "cell_type": "markdown",
   "metadata": {
    "collapsed": false,
    "slideshow": {
     "slide_type": "skip"
    }
   },
   "source": [
    "2 Assume that an investor buys 1000 USD worth of an ETF replicating DJI on the 3 January 2019.\n",
    "\n",
    "a) What would be the total value of the investment (including dividends) on December 1 2021?\n",
    "\n",
    "b) Find the $90%$ VaR of the daily net log-returns from the empirical distribution."
   ]
  },
  {
   "cell_type": "code",
   "execution_count": null,
   "metadata": {
    "collapsed": false
   },
   "outputs": [],
   "source": []
  }
 ],
 "metadata": {
  "anaconda-cloud": {},
  "kernelspec": {
   "argv": [
    "/usr/bin/python3",
    "-m",
    "ipykernel",
    "--HistoryManager.enabled=False",
    "--matplotlib=inline",
    "-c",
    "%config InlineBackend.figure_formats = set(['retina'])\nimport matplotlib; matplotlib.rcParams['figure.figsize'] = (12, 7)",
    "-f",
    "{connection_file}"
   ],
   "display_name": "Python 3 (system-wide)",
   "env": {},
   "language": "python",
   "metadata": {
    "cocalc": {
     "description": "Python 3 programming language",
     "priority": 100,
     "url": "https://www.python.org/"
    }
   },
   "name": "python3",
   "resource_dir": "/ext/jupyter/kernels/python3"
  },
  "language_info": {
   "codemirror_mode": {
    "name": "ipython",
    "version": 3
   },
   "file_extension": ".py",
   "mimetype": "text/x-python",
   "name": "python",
   "nbconvert_exporter": "python",
   "pygments_lexer": "ipython3",
   "version": "3.11.3"
  },
  "toc": {
   "base_numbering": 1,
   "nav_menu": {},
   "number_sections": true,
   "sideBar": true,
   "skip_h1_title": true,
   "title_cell": "Table of Contents",
   "title_sidebar": "Contents",
   "toc_cell": true,
   "toc_position": {},
   "toc_section_display": true,
   "toc_window_display": false
  }
 },
 "nbformat": 4,
 "nbformat_minor": 4
}
